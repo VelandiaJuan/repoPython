{
 "cells": [
  {
   "cell_type": "code",
   "execution_count": 10,
   "metadata": {},
   "outputs": [
    {
     "name": "stdout",
     "output_type": "stream",
     "text": [
      "0 0\n",
      "19 25\n"
     ]
    }
   ],
   "source": [
    "# creacion de clase\n",
    "class vector:\n",
    "    # creacion del metodo\n",
    "    # self hace una referencia al objeto que invoca el metodo\n",
    "    # tambien se le conoce como variables e instancias\n",
    "    def inicializa(self):#siempre se tiene\n",
    "        # atributos de la clase\n",
    "        self.x = 0\n",
    "        self.y = 0\n",
    "\n",
    "\n",
    "# creacion de la instancia de la clase\n",
    "v1 = vector()\n",
    "# invocacion del metodo de la clase\n",
    "v1.inicializa()\n",
    "# imprimir las variables a utilizar\n",
    "print(v1.x,v1.y)\n",
    "# colocar unos valores a los atributos de la clase\n",
    "v1.x = 19\n",
    "v1.y = 25\n",
    "print(v1.x,v1.y)"
   ]
  },
  {
   "cell_type": "code",
   "execution_count": 13,
   "metadata": {},
   "outputs": [
    {
     "name": "stdout",
     "output_type": "stream",
     "text": [
      "19 25 523\n"
     ]
    }
   ],
   "source": [
    "# creacion de un segundo objeto\n",
    "v2 = vector()\n",
    "v2.inicializa()\n",
    "# forma no recomendable de adicionar objetos\n",
    "v1.z = 523 #solo pertenece a la instancia mas no a la clase\n",
    "print(v1.x,v1.y,v1.z)\n",
    "# print(v2.x,v2.y,v2.z)#no contiene en la clase como tal"
   ]
  }
 ],
 "metadata": {
  "interpreter": {
   "hash": "4a1fd80be38e473944d29ea030714de9e5b664bddac97cc0b4758bc59a2b1f0c"
  },
  "kernelspec": {
   "display_name": "Python 3.6.13 ('datascience')",
   "language": "python",
   "name": "python3"
  },
  "language_info": {
   "codemirror_mode": {
    "name": "ipython",
    "version": 3
   },
   "file_extension": ".py",
   "mimetype": "text/x-python",
   "name": "python",
   "nbconvert_exporter": "python",
   "pygments_lexer": "ipython3",
   "version": "3.6.13"
  },
  "orig_nbformat": 4
 },
 "nbformat": 4,
 "nbformat_minor": 2
}
