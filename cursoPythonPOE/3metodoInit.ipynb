{
 "cells": [
  {
   "cell_type": "code",
   "execution_count": 3,
   "metadata": {},
   "outputs": [
    {
     "name": "stdout",
     "output_type": "stream",
     "text": [
      "1 2\n",
      "2.23606797749979\n"
     ]
    }
   ],
   "source": [
    "# explicacion del metodo init para las funcionalidades de control vergartarias\n",
    "# es un constructor que se invoca automaticamente cuando se llama a la clase\n",
    "import math\n",
    "\n",
    "class Vector :\n",
    "    def __init__(self,x,y):\n",
    "        # colocar los atributos de la clase\n",
    "        self.x = x\n",
    "        self.y = y\n",
    "    # creacion de otro metodo\n",
    "    def muestras(self):\n",
    "        print(self.x,self.y)\n",
    "    # metodo de magnitud del vector\n",
    "    def magnitud(self):\n",
    "        return math.sqrt(self.x**2+self.y**2)\n",
    "\n",
    "\n",
    "# creacion de la instancia del objeto\n",
    "v2 = Vector(1,2)\n",
    "v2.muestras()\n",
    "mag = v2.magnitud()\n",
    "print(mag)\n"
   ]
  }
 ],
 "metadata": {
  "interpreter": {
   "hash": "4a1fd80be38e473944d29ea030714de9e5b664bddac97cc0b4758bc59a2b1f0c"
  },
  "kernelspec": {
   "display_name": "Python 3.6.13 ('datascience')",
   "language": "python",
   "name": "python3"
  },
  "language_info": {
   "codemirror_mode": {
    "name": "ipython",
    "version": 3
   },
   "file_extension": ".py",
   "mimetype": "text/x-python",
   "name": "python",
   "nbconvert_exporter": "python",
   "pygments_lexer": "ipython3",
   "version": "3.6.13"
  },
  "orig_nbformat": 4
 },
 "nbformat": 4,
 "nbformat_minor": 2
}
