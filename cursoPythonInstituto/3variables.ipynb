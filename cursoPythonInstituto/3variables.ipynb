{
 "cells": [
  {
   "cell_type": "code",
   "execution_count": 2,
   "metadata": {},
   "outputs": [
    {
     "name": "stdout",
     "output_type": "stream",
     "text": [
      "es una variable de texto\n"
     ]
    }
   ],
   "source": [
    "# nombre de variables a utilizar\n",
    "var1 = 'es una variable de texto'\n",
    "print(var1)"
   ]
  },
  {
   "cell_type": "code",
   "execution_count": 4,
   "metadata": {},
   "outputs": [
    {
     "name": "stdout",
     "output_type": "stream",
     "text": [
      "1 1000.0 John Doe\n",
      "1\n"
     ]
    }
   ],
   "source": [
    "var = 1\n",
    "account_balance = 1000.0\n",
    "client_name = 'John Doe'\n",
    "print(var, account_balance, client_name)\n",
    "print(var)"
   ]
  },
  {
   "cell_type": "code",
   "execution_count": 6,
   "metadata": {},
   "outputs": [
    {
     "name": "stdout",
     "output_type": "stream",
     "text": [
      "Versión de Python: 3.8.5\n"
     ]
    }
   ],
   "source": [
    "# concatenar variables en el print\n",
    "var = \"3.8.5\"\n",
    "print(\"Versión de Python: \" + var)"
   ]
  },
  {
   "cell_type": "code",
   "execution_count": 1,
   "metadata": {},
   "outputs": [
    {
     "name": "stdout",
     "output_type": "stream",
     "text": [
      "1\n",
      "2\n"
     ]
    }
   ],
   "source": [
    "# reasignar valores a variables ya creadas\n",
    "var = 1\n",
    "print(var)\n",
    "var = var + 1\n",
    "print(var)\n"
   ]
  },
  {
   "cell_type": "code",
   "execution_count": 2,
   "metadata": {},
   "outputs": [
    {
     "name": "stdout",
     "output_type": "stream",
     "text": [
      "c = 5.0\n"
     ]
    }
   ],
   "source": [
    "a = 3\n",
    "b = 4\n",
    "c =(a**2 + b ** 2)**0.5\n",
    "print('c =',c)"
   ]
  },
  {
   "cell_type": "code",
   "execution_count": 6,
   "metadata": {},
   "outputs": [
    {
     "name": "stdout",
     "output_type": "stream",
     "text": [
      "Juan tiene  3  Manzanas\n",
      "Maria tiene  5  Manzanas\n",
      "Adan tiene 6  Manzanas\n",
      "Numero total de manzanas:  14\n"
     ]
    }
   ],
   "source": [
    "juan = 3\n",
    "maria = 5\n",
    "adan = 6\n",
    "total_manzanas = juan + maria + adan\n",
    "print('Juan tiene ', juan, ' Manzanas')\n",
    "print('Maria tiene ', maria, ' Manzanas')\n",
    "print('Adan tiene', adan, ' Manzanas')\n",
    "print('Numero total de manzanas: ',total_manzanas)"
   ]
  },
  {
   "cell_type": "code",
   "execution_count": 13,
   "metadata": {},
   "outputs": [],
   "source": [
    "# operadores abreviados\n",
    "x = 10\n",
    "x = x ** 2\n",
    "sheep = 1\n",
    "sheep = sheep + 1\n",
    "# codificar de manera mas sencilla\n",
    "# sintaxis\n",
    "# variable = variable operador expresion\n",
    "# simplificado\n",
    "# variable operador= expresion \n",
    "sheep += 1\n",
    "x **= 2\n",
    "# ejempos mas duros\n",
    "# ejemplo 1\n",
    "i = 15\n",
    "j = 15\n",
    "i = i + 2 *j \n",
    "i += 2*j\n",
    "# segundo ejemplo\n",
    "var = 1\n",
    "j = 1 \n",
    "rem = 13\n",
    "# j = j -(i + var + rem)\n",
    "\n",
    "j += -(i +var + rem)#opcion 1\n",
    "j -= (i +var + rem)#opcion 2"
   ]
  },
  {
   "cell_type": "code",
   "execution_count": 14,
   "metadata": {},
   "outputs": [
    {
     "name": "stdout",
     "output_type": "stream",
     "text": [
      "7.38 millas son 11.88 kilómetros\n",
      "12.25 kilómetros son 7.61 millas\n"
     ]
    }
   ],
   "source": [
    "kilometers = 12.25\n",
    "miles = 7.38\n",
    "\n",
    "miles_to_kilometers = miles*1.61\n",
    "kilometers_to_miles = kilometers/1.61\n",
    "\n",
    "print(miles, \"millas son\", round(miles_to_kilometers, 2), \"kilómetros\")\n",
    "print(kilometers, \"kilómetros son\", round(kilometers_to_miles, 2), \"millas\")\n"
   ]
  },
  {
   "cell_type": "code",
   "execution_count": 19,
   "metadata": {},
   "outputs": [
    {
     "name": "stdout",
     "output_type": "stream",
     "text": [
      "valor de y= -9\n"
     ]
    }
   ],
   "source": [
    "# ecuacuaciones y expresiones\n",
    "# 3x^3-2x^2+3x-1\n",
    "x = -1\n",
    "y = 3*x**3-2*x**2+3*x-1\n",
    "print('valor de y=',y)"
   ]
  }
 ],
 "metadata": {
  "interpreter": {
   "hash": "b29bf69b3514e4d81d8d7270d3e79b6172177f70cb2813e3b3390549273705d0"
  },
  "kernelspec": {
   "display_name": "Python 3.6.13 ('datascience')",
   "language": "python",
   "name": "python3"
  },
  "language_info": {
   "codemirror_mode": {
    "name": "ipython",
    "version": 3
   },
   "file_extension": ".py",
   "mimetype": "text/x-python",
   "name": "python",
   "nbconvert_exporter": "python",
   "pygments_lexer": "ipython3",
   "version": "3.6.13"
  },
  "orig_nbformat": 4
 },
 "nbformat": 4,
 "nbformat_minor": 2
}
