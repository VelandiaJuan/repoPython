{
 "cells": [
  {
   "cell_type": "code",
   "execution_count": 1,
   "metadata": {},
   "outputs": [
    {
     "name": "stdout",
     "output_type": "stream",
     "text": [
      "El valor de i es actualmente 0\n",
      "El valor de i es actualmente 1\n",
      "El valor de i es actualmente 2\n",
      "El valor de i es actualmente 3\n",
      "El valor de i es actualmente 4\n",
      "El valor de i es actualmente 5\n",
      "El valor de i es actualmente 6\n",
      "El valor de i es actualmente 7\n",
      "El valor de i es actualmente 8\n",
      "El valor de i es actualmente 9\n"
     ]
    }
   ],
   "source": [
    "# informarcion inicial del ciclo for\n",
    "for i in range(10):\n",
    "    print(\"El valor de i es actualmente\", i)"
   ]
  },
  {
   "cell_type": "code",
   "execution_count": 3,
   "metadata": {},
   "outputs": [
    {
     "name": "stdout",
     "output_type": "stream",
     "text": [
      "El valor de i es actualmente 2\n",
      "El valor de i es actualmente 3\n",
      "El valor de i es actualmente 4\n",
      "El valor de i es actualmente 5\n",
      "El valor de i es actualmente 6\n",
      "El valor de i es actualmente 7\n"
     ]
    }
   ],
   "source": [
    "# el range puede tener dos parametros acota el inicio y el final del ciclo for para la variable contadora\n",
    "for i in range(2, 8):\n",
    "    print(\"El valor de i es actualmente\", i)"
   ]
  },
  {
   "cell_type": "code",
   "execution_count": 4,
   "metadata": {},
   "outputs": [
    {
     "name": "stdout",
     "output_type": "stream",
     "text": [
      "El valor de i es actualmente 2\n",
      "El valor de i es actualmente 5\n"
     ]
    }
   ],
   "source": [
    "# tambien se puede tener mas argumentos el tercero hace referencia al incremento por defecto es 1\n",
    "for i in range(2, 8, 3):\n",
    "    print(\"El valor de i es actualmente\", i)"
   ]
  },
  {
   "cell_type": "code",
   "execution_count": 5,
   "metadata": {},
   "outputs": [],
   "source": [
    "for i in range(2, 1):\n",
    "    print(\"El valor de i es actualmente\", i)\n"
   ]
  },
  {
   "cell_type": "code",
   "execution_count": 8,
   "metadata": {},
   "outputs": [
    {
     "name": "stdout",
     "output_type": "stream",
     "text": [
      "2 a la potencia de 0 es 1\n",
      "2 a la potencia de 1 es 2\n",
      "2 a la potencia de 2 es 4\n",
      "2 a la potencia de 3 es 8\n",
      "2 a la potencia de 4 es 16\n",
      "2 a la potencia de 5 es 32\n",
      "2 a la potencia de 6 es 64\n",
      "2 a la potencia de 7 es 128\n"
     ]
    }
   ],
   "source": [
    "# programa de potencia\n",
    "power = 1\n",
    "for expo in range(8):\n",
    "    print(\"2 a la potencia de\", expo, \"es\", power)\n",
    "    power *= 2\n",
    "\n"
   ]
  },
  {
   "cell_type": "code",
   "execution_count": 13,
   "metadata": {},
   "outputs": [
    {
     "name": "stdout",
     "output_type": "stream",
     "text": [
      "1 Mississippi\n",
      "2 Mississippi\n",
      "3 Mississippi\n",
      "4 Mississippi\n",
      "5 Mississippi\n"
     ]
    }
   ],
   "source": [
    "# laboratorio 1\n",
    "import time\n",
    "for i in range(1,6):\n",
    "    print(i,'Mississippi')\n",
    "    time.sleep(1)"
   ]
  },
  {
   "cell_type": "code",
   "execution_count": 14,
   "metadata": {},
   "outputs": [
    {
     "name": "stdout",
     "output_type": "stream",
     "text": [
      "La instrucción break:\n",
      "Dentro del bucle. 1\n",
      "Dentro del bucle. 2\n",
      "Fuera del bucle.\n",
      "\n",
      "La instrucción continue:\n",
      "Dentro del bucle. 1\n",
      "Dentro del bucle. 2\n",
      "Dentro del bucle. 4\n",
      "Dentro del bucle. 5\n",
      "Fuera del bucle.\n"
     ]
    }
   ],
   "source": [
    "# dulces sintácticos break y continue\n",
    "# nota: son palabras reservadas\n",
    "# break - ejemplo\n",
    "print(\"La instrucción break:\")\n",
    "for i in range(1, 6):\n",
    "    if i == 3:\n",
    "        break\n",
    "    print(\"Dentro del bucle.\", i)\n",
    "print(\"Fuera del bucle.\")\n",
    "\n",
    "\n",
    "# continue - ejemplo\n",
    "\n",
    "print(\"\\nLa instrucción continue:\")\n",
    "for i in range(1, 6):\n",
    "    if i == 3:\n",
    "        continue\n",
    "    print(\"Dentro del bucle.\", i)\n",
    "print(\"Fuera del bucle.\")\n"
   ]
  },
  {
   "cell_type": "code",
   "execution_count": 16,
   "metadata": {},
   "outputs": [
    {
     "name": "stdout",
     "output_type": "stream",
     "text": [
      "El número más grande es 4654\n"
     ]
    }
   ],
   "source": [
    "# ejemplo de dulce sintactico con break\n",
    "largest_number = -99999999\n",
    "counter = 0\n",
    "\n",
    "while True:\n",
    "    number = int(input(\"Ingresa un número o escribe -1 para finalizar el programa: \"))\n",
    "    if number == -1:\n",
    "        break\n",
    "    counter += 1\n",
    "    if number > largest_number:\n",
    "        largest_number = number\n",
    "\n",
    "if counter != 0:\n",
    "    print(\"El número más grande es\", largest_number)\n",
    "else:\n",
    "    print(\"No has ingresado ningún número.\")\n",
    "\n"
   ]
  },
  {
   "cell_type": "code",
   "execution_count": 19,
   "metadata": {},
   "outputs": [
    {
     "name": "stdout",
     "output_type": "stream",
     "text": [
      "El número más grande es 56465\n"
     ]
    }
   ],
   "source": [
    "# ejemplo dulce sintactico con continuo\n",
    "largest_number = -99999999\n",
    "counter = 0\n",
    "\n",
    "number = int(input(\"Ingresa un número o escribe -1 para finalizar el programa: \"))\n",
    "\n",
    "while number != -1:\n",
    "    if number == -1:\n",
    "        continue\n",
    "    counter += 1\n",
    "\n",
    "    if number > largest_number:\n",
    "        largest_number = number\n",
    "    number = int(input(\"Ingresa un número o escribe -1 para finalizar el programa: \"))\n",
    "\n",
    "if counter:\n",
    "    print(\"El número más grande es\", largest_number)\n",
    "else:\n",
    "    print(\"No has ingresado ningún número.\")\n",
    "\n"
   ]
  },
  {
   "cell_type": "code",
   "execution_count": 22,
   "metadata": {},
   "outputs": [
    {
     "name": "stdout",
     "output_type": "stream",
     "text": [
      "Saliste del ciclo\n"
     ]
    }
   ],
   "source": [
    "# laboratorio 2\n",
    "\n",
    "# ingresar de la palabra por consola\n",
    "palabra = (input('Introduce la palabra magica'))\n",
    "while True:\n",
    "    if (palabra == 'chupacabra'):\n",
    "        break\n",
    "    palabra = (input('Introduce la palabra magica'))\n",
    "print('Saliste del ciclo')\n"
   ]
  },
  {
   "cell_type": "code",
   "execution_count": 29,
   "metadata": {},
   "outputs": [
    {
     "name": "stdout",
     "output_type": "stream",
     "text": [
      "GRGRY\n"
     ]
    }
   ],
   "source": [
    "# laboratorio 3 devorador de palabras\n",
    "word_without_vowels = \"\"\n",
    "user_word = (input('Introduce la palabra magica'))\n",
    "user_word = user_word.upper()\n",
    "for letter in user_word:\n",
    "    if letter == 'A' or letter == 'E' or letter == 'I' or letter == 'O' or letter == 'U':\n",
    "        continue\n",
    "    # print(letter)#version 1\n",
    "    word_without_vowels = word_without_vowels + letter\n",
    "print(word_without_vowels)\n"
   ]
  },
  {
   "cell_type": "code",
   "execution_count": null,
   "metadata": {},
   "outputs": [],
   "source": [
    "# nota particular while con rama else\n",
    "i = 1\n",
    "while i < 5:\n",
    "    print(i)\n",
    "    i += 1\n",
    "else:\n",
    "    print(\"else:\", i)"
   ]
  },
  {
   "cell_type": "code",
   "execution_count": 30,
   "metadata": {},
   "outputs": [
    {
     "name": "stdout",
     "output_type": "stream",
     "text": [
      "0\n",
      "1\n",
      "2\n",
      "3\n",
      "4\n",
      "else: 4\n"
     ]
    }
   ],
   "source": [
    "for i in range(5):\n",
    "    print(i)\n",
    "else:\n",
    "    print(\"else:\", i)\n"
   ]
  },
  {
   "cell_type": "code",
   "execution_count": 31,
   "metadata": {},
   "outputs": [
    {
     "name": "stdout",
     "output_type": "stream",
     "text": [
      "else: 111\n"
     ]
    }
   ],
   "source": [
    "i = 111\n",
    "for i in range(2, 1):\n",
    "    print(i)\n",
    "else:\n",
    "    print(\"else:\", i)\n"
   ]
  },
  {
   "cell_type": "code",
   "execution_count": 60,
   "metadata": {},
   "outputs": [
    {
     "name": "stdout",
     "output_type": "stream",
     "text": [
      "La altura de la pirámide: 0\n"
     ]
    }
   ],
   "source": [
    "# laboratorio 4\n",
    "# piramide \n",
    "blocks = int(input(\"Ingresa el número de bloques: \"))\n",
    "acumulador = 0\n",
    "contador = 0\n",
    "ladrillos = 0\n",
    "height = 0\n",
    "if blocks >= 0 :\n",
    "    while True:\n",
    "        contador += 1 # bloques que se van a adicionar\n",
    "        acumulador += contador # total de bloques por fila\n",
    "        height += 1\n",
    "        if acumulador > blocks:\n",
    "            height -= 1\n",
    "            break\n",
    "        elif acumulador == blocks:\n",
    "            break\n",
    "        elif acumulador <= blocks:\n",
    "            continue\n",
    "\n",
    "    print(\"La altura de la pirámide:\", height)\n",
    "else:\n",
    "    print('valores negativos no validos')\n"
   ]
  }
 ],
 "metadata": {
  "interpreter": {
   "hash": "b29bf69b3514e4d81d8d7270d3e79b6172177f70cb2813e3b3390549273705d0"
  },
  "kernelspec": {
   "display_name": "Python 3.6.13 ('datascience')",
   "language": "python",
   "name": "python3"
  },
  "language_info": {
   "codemirror_mode": {
    "name": "ipython",
    "version": 3
   },
   "file_extension": ".py",
   "mimetype": "text/x-python",
   "name": "python",
   "nbconvert_exporter": "python",
   "pygments_lexer": "ipython3",
   "version": "3.6.13"
  },
  "orig_nbformat": 4
 },
 "nbformat": 4,
 "nbformat_minor": 2
}
