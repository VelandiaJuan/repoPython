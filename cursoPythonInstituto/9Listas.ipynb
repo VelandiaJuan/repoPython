{
 "cells": [
  {
   "cell_type": "code",
   "execution_count": 8,
   "metadata": {},
   "outputs": [
    {
     "name": "stdout",
     "output_type": "stream",
     "text": [
      "Contenido de la lista original: [10, 5, 7, 2, 1]\n",
      "\n",
      "Previo contenido de la lista: [111, 5, 7, 2, 1]\n",
      "Nuevo contenido de la lista: [111, 1, 7, 2, 1]\n"
     ]
    }
   ],
   "source": [
    "numbers = [10, 5, 7, 2, 1]\n",
    "print(\"Contenido de la lista original:\", numbers)  # Imprimiendo contenido de la lista original.\n",
    "\n",
    "numbers[0] = 111\n",
    "print(\"\\nPrevio contenido de la lista:\", numbers)  # Imprimiendo contenido de la lista anterior.\n",
    "\n",
    "numbers[1] = numbers[4]  # Copiando el valor del quinto elemento al segundo elemento.\n",
    "print(\"Nuevo contenido de la lista:\", numbers)# Imprimiendo el contenido de la lista actual."
   ]
  },
  {
   "cell_type": "code",
   "execution_count": 9,
   "metadata": {},
   "outputs": [
    {
     "name": "stdout",
     "output_type": "stream",
     "text": [
      "111\n"
     ]
    }
   ],
   "source": [
    "# Accediendo al contenido de la primera lista\n",
    "print(numbers[0]) # Accediendo al primer elemento de la lista."
   ]
  },
  {
   "cell_type": "code",
   "execution_count": 10,
   "metadata": {},
   "outputs": [
    {
     "name": "stdout",
     "output_type": "stream",
     "text": [
      "5\n",
      "[111, 1, 7, 2, 1]\n"
     ]
    }
   ],
   "source": [
    "# identificar el tamano de una lista\n",
    "tamano = len(numbers)\n",
    "print(tamano)\n",
    "print(numbers)"
   ]
  },
  {
   "cell_type": "code",
   "execution_count": 11,
   "metadata": {},
   "outputs": [
    {
     "name": "stdout",
     "output_type": "stream",
     "text": [
      "[111, 7, 2, 1]\n"
     ]
    }
   ],
   "source": [
    "# Eliminar elementos de una lista\n",
    "del numbers[1]#eliminar la posicion 1 partiendo desde la cero\n",
    "print(numbers)"
   ]
  },
  {
   "cell_type": "code",
   "execution_count": 13,
   "metadata": {},
   "outputs": [
    {
     "ename": "IndexError",
     "evalue": "list assignment index out of range",
     "output_type": "error",
     "traceback": [
      "\u001b[1;31m---------------------------------------------------------------------------\u001b[0m",
      "\u001b[1;31mIndexError\u001b[0m                                Traceback (most recent call last)",
      "\u001b[1;32m<ipython-input-13-5d85207709c2>\u001b[0m in \u001b[0;36m<module>\u001b[1;34m\u001b[0m\n\u001b[0;32m      1\u001b[0m \u001b[1;31m# Adicionar un elemento a la lista o vector\u001b[0m\u001b[1;33m\u001b[0m\u001b[1;33m\u001b[0m\u001b[1;33m\u001b[0m\u001b[0m\n\u001b[1;32m----> 2\u001b[1;33m \u001b[0mnumbers\u001b[0m\u001b[1;33m[\u001b[0m\u001b[1;36m4\u001b[0m\u001b[1;33m]\u001b[0m \u001b[1;33m=\u001b[0m \u001b[1;36m1\u001b[0m\u001b[1;31m# es una forma no valida\u001b[0m\u001b[1;33m\u001b[0m\u001b[1;33m\u001b[0m\u001b[0m\n\u001b[0m",
      "\u001b[1;31mIndexError\u001b[0m: list assignment index out of range"
     ]
    }
   ],
   "source": [
    "# Adicionar un elemento a la lista o vector\n",
    "numbers[4] = 1# es una forma no valida"
   ]
  },
  {
   "cell_type": "code",
   "execution_count": 18,
   "metadata": {},
   "outputs": [
    {
     "name": "stdout",
     "output_type": "stream",
     "text": [
      "[1, 2, 25, 4, 5]\n",
      "[1, 2, 25, 4]\n",
      "tamano 4\n"
     ]
    }
   ],
   "source": [
    "# laboratorio 1\n",
    "hatList = [1,2,3,4,5]\n",
    "data = int(input('Ingrese el valor a reemplazar en la mitad del arreglo'))\n",
    "size = len(hatList)\n",
    "hatList[size//2] = data\n",
    "print(hatList)#ejercicio 1\n",
    "del hatList[-1]#ejercicio 3\n",
    "size = len(hatList)#ejercicio 2\n",
    "print(hatList)\n",
    "print('tamano',size)\n"
   ]
  },
  {
   "cell_type": "code",
   "execution_count": 24,
   "metadata": {},
   "outputs": [
    {
     "name": "stdout",
     "output_type": "stream",
     "text": [
      "Lista [1, 2, 6, 5, 5]\n",
      "Size 5\n",
      "Lista [25, 1, 2, 6, 5, 45, 5]\n"
     ]
    }
   ],
   "source": [
    "# Adicionar elementos a las listas\n",
    "# para adicionar un elemento al final de la lista se utiliza\n",
    "lista = [ 1,2,6,5]\n",
    "lista.append(5)\n",
    "print('Lista',lista)\n",
    "print('Size', len(lista))\n",
    "# forma de adicionar una lista de una forma mas inteligente\n",
    "lista.insert(0,25)#posicion inicial\n",
    "lista.insert(-1,45)#posion antepenultima\n",
    "print('Lista',lista)"
   ]
  },
  {
   "cell_type": "code",
   "execution_count": 26,
   "metadata": {},
   "outputs": [
    {
     "name": "stdout",
     "output_type": "stream",
     "text": [
      "La lista creada [1, 2, 3, 4, 5]\n",
      "Lista Inset [1, 2, 3, 4, 5]\n"
     ]
    }
   ],
   "source": [
    "# Creando una lista vacia con ciclo for\n",
    "miLista = []\n",
    "for i in range(5):\n",
    "    miLista.append(i+1)\n",
    "print('La lista creada',miLista)\n",
    "\n",
    "# creada con el instert\n",
    "lista2 = []\n",
    "for i in range(5):\n",
    "    lista2.insert(i,i+1)\n",
    "print('Lista Inset',lista2)"
   ]
  },
  {
   "cell_type": "code",
   "execution_count": 28,
   "metadata": {},
   "outputs": [
    {
     "name": "stdout",
     "output_type": "stream",
     "text": [
      "31\n",
      "31\n"
     ]
    }
   ],
   "source": [
    "# codigo ejemplo para sumar todas los valores de una lista\n",
    "# ejemplo 1\n",
    "lista = [10,2,8,6,5]\n",
    "total = 0\n",
    "\n",
    "for i in lista:\n",
    "    total += i\n",
    "print(total)\n",
    "\n",
    "# ejemplo 2\n",
    "total = 0 \n",
    "for i in range(len(lista)):\n",
    "    total = total + lista[i]\n",
    "print(total)\n",
    "\n"
   ]
  },
  {
   "cell_type": "code",
   "execution_count": 32,
   "metadata": {},
   "outputs": [
    {
     "name": "stdout",
     "output_type": "stream",
     "text": [
      "var1 2 var2 1\n"
     ]
    }
   ],
   "source": [
    "# intercambio de valores\n",
    "variable1 = 1\n",
    "variable2 = 2\n",
    "variable1, variable2 = variable2, variable1\n",
    "print('var1',variable1,'var2',variable2)"
   ]
  },
  {
   "cell_type": "code",
   "execution_count": 36,
   "metadata": {},
   "outputs": [
    {
     "name": "stdout",
     "output_type": "stream",
     "text": [
      "[5, 3, 8, 1, 10]\n",
      "[5, 3, 8, 1, 10]\n"
     ]
    }
   ],
   "source": [
    "# intercambio de variables en una lista\n",
    "my_list = [ 10,1,8,3,5]\n",
    "my_list[0],my_list[4] = my_list[4],my_list[0]\n",
    "my_list[1],my_list[3] = my_list[3],my_list[1]\n",
    "print(my_list)\n",
    "# realizando con un ciclo for\n",
    "my_list = [10, 1, 8, 3, 5]\n",
    "length = len(my_list)\n",
    "\n",
    "for i in range(length // 2):\n",
    "    my_list[i], my_list[length - i - 1] = my_list[length - i - 1], my_list[i]\n",
    "\n",
    "print(my_list)"
   ]
  },
  {
   "cell_type": "code",
   "execution_count": 48,
   "metadata": {},
   "outputs": [
    {
     "name": "stdout",
     "output_type": "stream",
     "text": [
      "['John Lennon', 'Paul McCartney', 'George Harrison']\n",
      "['John Lennon', 'Paul McCartney', 'George Harrison', 'jlk', 'jlk']\n",
      "['John Lennon', 'Paul McCartney', 'George Harrison']\n",
      "['Rigo Starr', 'John Lennon', 'Paul McCartney', 'George Harrison']\n"
     ]
    }
   ],
   "source": [
    "# laboratorio de los beatles\n",
    "beatles = []#lista vacia\n",
    "# 1 adicionar los primeros integrantes\n",
    "beatles.append('John Lennon')\n",
    "beatles.append('Paul McCartney')\n",
    "beatles.append('George Harrison')\n",
    "print(beatles)\n",
    "# 2 adicionar otros miembros por el ciclo for\n",
    "for i in range(2):\n",
    "    miembro = input('Ingrese un nuevo integrante')\n",
    "    beatles.append(miembro)\n",
    "print(beatles)\n",
    "# 3 eliminar las miembros adicionados\n",
    "del beatles[-1]\n",
    "del beatles[-1]\n",
    "print(beatles)\n",
    "# 4 adicionar a rigo al inicio\n",
    "beatles.insert(0,'Rigo Starr')\n",
    "print(beatles)\n"
   ]
  },
  {
   "cell_type": "code",
   "execution_count": 49,
   "metadata": {},
   "outputs": [
    {
     "name": "stdout",
     "output_type": "stream",
     "text": [
      "[6, 2, 3, 4, 5, 1]\n"
     ]
    }
   ],
   "source": [
    "lst = [1, 2, 3, 4, 5]\n",
    "lst.insert(1, 6)\n",
    "del lst[0]\n",
    "lst.append(1)\n",
    "\n",
    "print(lst)"
   ]
  },
  {
   "cell_type": "code",
   "execution_count": 52,
   "metadata": {},
   "outputs": [
    {
     "name": "stdout",
     "output_type": "stream",
     "text": [
      "[1, 3, 6, 10, 15]\n",
      "[2, 3]\n",
      "3\n"
     ]
    }
   ],
   "source": [
    "lst = [1, 2, 3, 4, 5]\n",
    "lst_2 = []\n",
    "add = 0\n",
    "\n",
    "for number in lst:\n",
    "    add += number\n",
    "    lst_2.append(add)\n",
    "\n",
    "print(lst_2)\n",
    "\n",
    "\n",
    "lst = [1, [2, 3], 4]\n",
    "print(lst[1])\n",
    "print(len(lst))"
   ]
  }
 ],
 "metadata": {
  "interpreter": {
   "hash": "b29bf69b3514e4d81d8d7270d3e79b6172177f70cb2813e3b3390549273705d0"
  },
  "kernelspec": {
   "display_name": "Python 3.6.13 ('datascience')",
   "language": "python",
   "name": "python3"
  },
  "language_info": {
   "codemirror_mode": {
    "name": "ipython",
    "version": 3
   },
   "file_extension": ".py",
   "mimetype": "text/x-python",
   "name": "python",
   "nbconvert_exporter": "python",
   "pygments_lexer": "ipython3",
   "version": "3.6.13"
  },
  "orig_nbformat": 4
 },
 "nbformat": 4,
 "nbformat_minor": 2
}
