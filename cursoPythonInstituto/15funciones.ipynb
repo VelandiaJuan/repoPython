{
 "cells": [
  {
   "cell_type": "code",
   "execution_count": 1,
   "metadata": {},
   "outputs": [
    {
     "name": "stdout",
     "output_type": "stream",
     "text": [
      "Ingresa un valor: \n",
      "Ingresa un valor: \n",
      "Ingresa un valor: \n"
     ]
    }
   ],
   "source": [
    "# codigo repetido a utilizar para función\n",
    "print(\"Ingresa un valor: \")\n",
    "a = int(input())\n",
    "\n",
    "print(\"Ingresa un valor: \")\n",
    "b = int(input())\n",
    "\n",
    "print(\"Ingresa un valor: \")\n",
    "c = int(input())"
   ]
  },
  {
   "cell_type": "code",
   "execution_count": 3,
   "metadata": {},
   "outputs": [
    {
     "name": "stdout",
     "output_type": "stream",
     "text": [
      "Ejecución de Programa Principal\n",
      "Ingresa un Valor\n",
      "Finalizó Ejecución del Programa Principal\n"
     ]
    }
   ],
   "source": [
    "# definicion de la primera función\n",
    "def mensaje():\n",
    "    print('Ingresa un Valor')\n",
    "\n",
    "print('Ejecución de Programa Principal')\n",
    "mensaje()\n",
    "print('Finalizó Ejecución del Programa Principal')"
   ]
  },
  {
   "cell_type": "code",
   "execution_count": 4,
   "metadata": {},
   "outputs": [
    {
     "name": "stdout",
     "output_type": "stream",
     "text": [
      "Se comienza aquí.\n"
     ]
    },
    {
     "ename": "NameError",
     "evalue": "name 'message' is not defined",
     "output_type": "error",
     "traceback": [
      "\u001b[1;31m---------------------------------------------------------------------------\u001b[0m",
      "\u001b[1;31mNameError\u001b[0m                                 Traceback (most recent call last)",
      "\u001b[1;32m<ipython-input-4-d683ba0b3b6b>\u001b[0m in \u001b[0;36m<module>\u001b[1;34m\u001b[0m\n\u001b[0;32m      1\u001b[0m \u001b[0mprint\u001b[0m\u001b[1;33m(\u001b[0m\u001b[1;34m\"Se comienza aquí.\"\u001b[0m\u001b[1;33m)\u001b[0m\u001b[1;33m\u001b[0m\u001b[1;33m\u001b[0m\u001b[0m\n\u001b[1;32m----> 2\u001b[1;33m \u001b[0mmessage\u001b[0m\u001b[1;33m(\u001b[0m\u001b[1;33m)\u001b[0m\u001b[1;33m\u001b[0m\u001b[1;33m\u001b[0m\u001b[0m\n\u001b[0m\u001b[0;32m      3\u001b[0m \u001b[0mprint\u001b[0m\u001b[1;33m(\u001b[0m\u001b[1;34m\"Se termina aquí.\"\u001b[0m\u001b[1;33m)\u001b[0m\u001b[1;33m\u001b[0m\u001b[1;33m\u001b[0m\u001b[0m\n\u001b[0;32m      4\u001b[0m \u001b[1;33m\u001b[0m\u001b[0m\n\u001b[0;32m      5\u001b[0m \u001b[1;33m\u001b[0m\u001b[0m\n",
      "\u001b[1;31mNameError\u001b[0m: name 'message' is not defined"
     ]
    }
   ],
   "source": [
    "# IMPORTANTE\n",
    "# Primero se debe definir la función antes de llamarla\n",
    "print(\"Se comienza aquí.\")\n",
    "message()\n",
    "print(\"Se termina aquí.\")\n",
    "\n",
    "\n",
    "def message():\n",
    "    print(\"Ingresa un valor: \")"
   ]
  },
  {
   "cell_type": "code",
   "execution_count": 5,
   "metadata": {},
   "outputs": [],
   "source": [
    "# Nota Importante 2\n",
    "# una variable y una función no puede compartir el mismo nombre\n",
    "def message():\n",
    "    print(\"Ingresa un valor: \")\n",
    "message = 1"
   ]
  },
  {
   "cell_type": "code",
   "execution_count": 6,
   "metadata": {},
   "outputs": [
    {
     "name": "stdout",
     "output_type": "stream",
     "text": [
      "Hola, Juan Velandia\n"
     ]
    }
   ],
   "source": [
    "# Definición de función con parametros de entrada\n",
    "def hello(name):    # definiendo una función\n",
    "    print(\"Hola,\", name)    # cuerpo de la función\n",
    "\n",
    "\n",
    "name = input(\"Ingresa tu nombre: \")\n",
    "\n",
    "hello(name)    # invocación de la función"
   ]
  }
 ],
 "metadata": {
  "kernelspec": {
   "display_name": "Python 3.6.13 ('DataScience')",
   "language": "python",
   "name": "python3"
  },
  "language_info": {
   "codemirror_mode": {
    "name": "ipython",
    "version": 3
   },
   "file_extension": ".py",
   "mimetype": "text/x-python",
   "name": "python",
   "nbconvert_exporter": "python",
   "pygments_lexer": "ipython3",
   "version": "3.6.13"
  },
  "orig_nbformat": 4,
  "vscode": {
   "interpreter": {
    "hash": "d1be5dc262f941eb986cc9e4fcafd04ed5a82531a024240bb5288ec085091668"
   }
  }
 },
 "nbformat": 4,
 "nbformat_minor": 2
}
