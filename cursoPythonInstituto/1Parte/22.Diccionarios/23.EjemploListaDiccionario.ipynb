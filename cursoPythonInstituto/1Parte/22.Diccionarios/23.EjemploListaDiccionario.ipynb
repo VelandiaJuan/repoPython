{
 "cells": [
  {
   "cell_type": "code",
   "execution_count": 4,
   "metadata": {},
   "outputs": [
    {
     "name": "stdout",
     "output_type": "stream",
     "text": [
      "deiver : 5.0\n",
      "jairo : 10.0\n",
      "juan pablo : 4.5\n",
      "miguel : 5.0\n"
     ]
    }
   ],
   "source": [
    "school_class = {}\n",
    "\n",
    "while True:\n",
    "    name = input(\"Ingresa el nombre del estudiante: \")\n",
    "    if name == '':\n",
    "        break\n",
    "    \n",
    "    score = int(input(\"Ingresa la calificación del estudiante (0-10): \"))\n",
    "    if score not in range(0, 11):\n",
    "\t    break\n",
    "    \n",
    "    if name in school_class:\n",
    "        school_class[name] += (score,)\n",
    "    else:\n",
    "        school_class[name] = (score,)\n",
    "        \n",
    "for name in sorted(school_class.keys()):\n",
    "    adding = 0\n",
    "    counter = 0\n",
    "    for score in school_class[name]:\n",
    "        adding += score\n",
    "        counter += 1\n",
    "    print(name, \":\", adding / counter)\n"
   ]
  }
 ],
 "metadata": {
  "kernelspec": {
   "display_name": "Python 3.6.13 ('DataScience')",
   "language": "python",
   "name": "python3"
  },
  "language_info": {
   "codemirror_mode": {
    "name": "ipython",
    "version": 3
   },
   "file_extension": ".py",
   "mimetype": "text/x-python",
   "name": "python",
   "nbconvert_exporter": "python",
   "pygments_lexer": "ipython3",
   "version": "3.6.13"
  },
  "orig_nbformat": 4,
  "vscode": {
   "interpreter": {
    "hash": "d1be5dc262f941eb986cc9e4fcafd04ed5a82531a024240bb5288ec085091668"
   }
  }
 },
 "nbformat": 4,
 "nbformat_minor": 2
}
