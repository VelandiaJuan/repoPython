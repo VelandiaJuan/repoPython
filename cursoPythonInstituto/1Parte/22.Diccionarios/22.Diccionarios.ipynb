{
 "cells": [
  {
   "cell_type": "code",
   "execution_count": 1,
   "metadata": {},
   "outputs": [
    {
     "name": "stdout",
     "output_type": "stream",
     "text": [
      "{'gato': 'chat', 'perro': 'chien', 'caballo': 'cheval'}\n",
      "{'jefe': 5551234567, 'Suzy': 22657854310}\n",
      "{}\n"
     ]
    }
   ],
   "source": [
    "dictionary = {\"gato\" : \"chat\", \"perro\" : \"chien\", \"caballo\" : \"cheval\"}\n",
    "phone_numbers = {'jefe': 5551234567, 'Suzy': 22657854310}\n",
    "empty_dictionary = {}\n",
    "\n",
    "print(dictionary)\n",
    "print(phone_numbers)\n",
    "print(empty_dictionary)\n"
   ]
  },
  {
   "cell_type": "code",
   "execution_count": 2,
   "metadata": {},
   "outputs": [
    {
     "name": "stdout",
     "output_type": "stream",
     "text": [
      "chat\n",
      "22657854310\n"
     ]
    }
   ],
   "source": [
    "# adquision de datos novedad vergataria\n",
    "print(dictionary['gato'])\n",
    "print(phone_numbers['Suzy'])\n"
   ]
  },
  {
   "cell_type": "code",
   "execution_count": 5,
   "metadata": {},
   "outputs": [
    {
     "name": "stdout",
     "output_type": "stream",
     "text": [
      "gato -> chat\n",
      "león -> Paisa\n",
      "caballo -> cheval\n",
      "Paisa no está en el diccionario\n"
     ]
    }
   ],
   "source": [
    "# recorrido en un diccionario de manera pro\n",
    "dictionary = {\"gato\" : \"chat\", \"perro\" : \"chien\", \"caballo\" : \"cheval\",'león':'Paisa'}\n",
    "words = ['gato', 'león', 'caballo','Paisa']\n",
    "\n",
    "for word in words:\n",
    "    if word in dictionary:\n",
    "        print(word, \"->\", dictionary[word])\n",
    "    else:\n",
    "        print(word, \"no está en el diccionario\")\n",
    "\n"
   ]
  },
  {
   "cell_type": "code",
   "execution_count": 6,
   "metadata": {},
   "outputs": [],
   "source": [
    "# codigo amigable sangria Francesa\n",
    "# Ejemplo 1:\n",
    "dictionary = {\n",
    "              \"gato\": \"chat\",\n",
    "              \"perro\": \"chien\",\n",
    "              \"caballo\": \"cheval\"\n",
    "              }\n",
    "\n",
    "# Ejemplo 2:\n",
    "phone_numbers = {'jefe': 5551234567,\n",
    "                 'Suzy': 22657854310\n",
    "                 }\n",
    "\n"
   ]
  }
 ],
 "metadata": {
  "kernelspec": {
   "display_name": "Python 3.6.13 ('DataScience')",
   "language": "python",
   "name": "python3"
  },
  "language_info": {
   "codemirror_mode": {
    "name": "ipython",
    "version": 3
   },
   "file_extension": ".py",
   "mimetype": "text/x-python",
   "name": "python",
   "nbconvert_exporter": "python",
   "pygments_lexer": "ipython3",
   "version": "3.6.13"
  },
  "orig_nbformat": 4,
  "vscode": {
   "interpreter": {
    "hash": "d1be5dc262f941eb986cc9e4fcafd04ed5a82531a024240bb5288ec085091668"
   }
  }
 },
 "nbformat": 4,
 "nbformat_minor": 2
}
