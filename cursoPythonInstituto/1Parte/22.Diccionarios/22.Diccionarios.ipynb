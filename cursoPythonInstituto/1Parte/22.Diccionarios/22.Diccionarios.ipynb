{
 "cells": [
  {
   "cell_type": "code",
   "execution_count": 2,
   "metadata": {},
   "outputs": [
    {
     "name": "stdout",
     "output_type": "stream",
     "text": [
      "{'gato': 'chat', 'perro': 'chien', 'caballo': 'cheval'}\n",
      "{'jefe': 5551234567, 'Suzy': 22657854310}\n",
      "{}\n"
     ]
    }
   ],
   "source": [
    "dictionary = {\"gato\" : \"chat\", \"perro\" : \"chien\", \"caballo\" : \"cheval\"}\n",
    "phone_numbers = {'jefe': 5551234567, 'Suzy': 22657854310}\n",
    "empty_dictionary = {}\n",
    "\n",
    "print(dictionary)\n",
    "print(phone_numbers)\n",
    "print(empty_dictionary)\n"
   ]
  },
  {
   "cell_type": "code",
   "execution_count": 3,
   "metadata": {},
   "outputs": [
    {
     "name": "stdout",
     "output_type": "stream",
     "text": [
      "chat\n",
      "22657854310\n"
     ]
    }
   ],
   "source": [
    "# adquision de datos novedad vergataria\n",
    "print(dictionary['gato'])\n",
    "print(phone_numbers['Suzy'])\n"
   ]
  },
  {
   "cell_type": "code",
   "execution_count": 4,
   "metadata": {},
   "outputs": [
    {
     "name": "stdout",
     "output_type": "stream",
     "text": [
      "gato -> chat\n",
      "león -> Paisa\n",
      "caballo -> cheval\n",
      "Paisa no está en el diccionario\n"
     ]
    }
   ],
   "source": [
    "# recorrido en un diccionario de manera pro\n",
    "dictionary = {\"gato\" : \"chat\", \"perro\" : \"chien\", \"caballo\" : \"cheval\",'león':'Paisa'}\n",
    "words = ['gato', 'león', 'caballo','Paisa']\n",
    "\n",
    "for word in words:\n",
    "    if word in dictionary:\n",
    "        print(word, \"->\", dictionary[word])\n",
    "    else:\n",
    "        print(word, \"no está en el diccionario\")\n",
    "\n"
   ]
  },
  {
   "cell_type": "code",
   "execution_count": 2,
   "metadata": {},
   "outputs": [
    {
     "name": "stdout",
     "output_type": "stream",
     "text": [
      "gato -> chat\n",
      "león no está en el diccionario\n",
      "caballo -> cheval\n"
     ]
    }
   ],
   "source": [
    "# codigo amigable sangria Francesa\n",
    "# Ejemplo 1:\n",
    "dictionary = {\n",
    "              \"gato\": \"chat\",\n",
    "              \"perro\": \"chien\",\n",
    "              \"caballo\": \"cheval\"\n",
    "              }\n",
    "\n",
    "# Ejemplo 2:\n",
    "phone_numbers = {'jefe': 5551234567,\n",
    "                 'Suzy': 22657854310\n",
    "                 }\n",
    "\n",
    "dictionary = {\"gato\" : \"chat\", \"perro\" : \"chien\", \"caballo\" : \"cheval\"}\n",
    "words = ['gato', 'león', 'caballo']\n",
    "\n",
    "for word in words:\n",
    "    if word in dictionary:\n",
    "        print(word, \"->\", dictionary[word])\n",
    "    else:\n",
    "        print(word, \"no está en el diccionario\")\n",
    "\n"
   ]
  },
  {
   "cell_type": "code",
   "execution_count": 3,
   "metadata": {},
   "outputs": [],
   "source": [
    "dictionary = {\"gato\" : \"chat\", \"perro\" : \"chien\", \"caballo\" : \"cheval\"}\n",
    "phone_numbers = {'jefe' : 5551234567, 'Suzy' : 22657854310}\n",
    "empty_dictionary = {}\n",
    "#print(phone_numbers['presidente'])# Si la key no existe puede ocurrir el siguiente error\n",
    "# Imprimir valores aquí.\n"
   ]
  },
  {
   "cell_type": "code",
   "execution_count": 4,
   "metadata": {},
   "outputs": [
    {
     "name": "stdout",
     "output_type": "stream",
     "text": [
      "gato -> chat\n",
      "perro -> chien\n",
      "caballo -> cheval\n"
     ]
    }
   ],
   "source": [
    "# ejemplo de utilizar las Keys\n",
    "dictionary = {\"gato\" : \"chat\", \"perro\" : \"chien\", \"caballo\" : \"cheval\"}\n",
    "for key in dictionary.keys():#retorna o regresa una lista de todas las claves dentro del diccionario\n",
    "    print(key, \"->\", dictionary[key])           "
   ]
  },
  {
   "cell_type": "code",
   "execution_count": 5,
   "metadata": {},
   "outputs": [
    {
     "name": "stdout",
     "output_type": "stream",
     "text": [
      "caballo -> cheval\n",
      "gato -> chat\n",
      "perro -> chien\n"
     ]
    }
   ],
   "source": [
    "# Salida ordenada mediante el metodo sorted()\n",
    "# ordenar en alfabetico mediante las llaves\n",
    "for key in sorted(dictionary.keys()):\n",
    "    print(key, \"->\", dictionary[key])\n"
   ]
  },
  {
   "cell_type": "code",
   "execution_count": 6,
   "metadata": {},
   "outputs": [
    {
     "name": "stdout",
     "output_type": "stream",
     "text": [
      "gato -> chat\n",
      "perro -> chien\n",
      "caballo -> cheval\n",
      "Nombre JuanPablo Telefono 3193867204\n",
      "Nombre MiguelLaverde Telefono 3107789443\n"
     ]
    }
   ],
   "source": [
    "dictionary = {\"gato\" : \"chat\", \"perro\" : \"chien\", \"caballo\" : \"cheval\"}\n",
    "\n",
    "for spanish, french in dictionary.items():\n",
    "    print(spanish, \"->\", french)\n",
    "# ejemplo propuesto\n",
    "employedSlacol = {'JuanPablo':3193867204,'MiguelLaverde':3107789443}\n",
    "for nombre,telefono in employedSlacol.items():\n",
    "    print('Nombre', nombre , 'Telefono' , telefono)"
   ]
  },
  {
   "cell_type": "code",
   "execution_count": 8,
   "metadata": {},
   "outputs": [
    {
     "name": "stdout",
     "output_type": "stream",
     "text": [
      "chat\n",
      "chien\n",
      "cheval\n"
     ]
    }
   ],
   "source": [
    "# recorrido del valor de las llaves\n",
    "dictionary = {\"gato\" : \"chat\", \"perro\" : \"chien\", \"caballo\" : \"cheval\"}\n",
    "\n",
    "for french in dictionary.values():\n",
    "    print(french)"
   ]
  },
  {
   "cell_type": "code",
   "execution_count": 9,
   "metadata": {},
   "outputs": [
    {
     "name": "stdout",
     "output_type": "stream",
     "text": [
      "{'gato': 'minou', 'dog': 'chien', 'caballo': 'cheval'}\n"
     ]
    }
   ],
   "source": [
    "dictionary = {\"gato\" : \"perro\", \"dog\" : \"chien\", \"caballo\" : \"cheval\"}\n",
    "# modificar un valor asignado\n",
    "dictionary['gato'] = 'minou'\n",
    "print(dictionary)\n"
   ]
  },
  {
   "cell_type": "code",
   "execution_count": 10,
   "metadata": {},
   "outputs": [
    {
     "name": "stdout",
     "output_type": "stream",
     "text": [
      "{'gato': 'chat', 'perro': 'chien', 'caballo': 'cheval', 'pato': 'canard'}\n"
     ]
    }
   ],
   "source": [
    "# adición de elementos a un diccionario\n",
    "dictionary = {\"gato\" : \"chat\", \"perro\" : \"chien\", \"caballo\" : \"cheval\"}\n",
    "\n",
    "dictionary.update({\"pato\": \"canard\"})\n",
    "print(dictionary)"
   ]
  },
  {
   "cell_type": "code",
   "execution_count": 11,
   "metadata": {},
   "outputs": [
    {
     "name": "stdout",
     "output_type": "stream",
     "text": [
      "{'gato': 'chat', 'caballo': 'cheval'}\n"
     ]
    }
   ],
   "source": [
    "# eliminar un elemento del diccionario\n",
    "dictionary = {\"gato\" : \"chat\", \"perro\" : \"chien\", \"caballo\" : \"cheval\"}\n",
    "\n",
    "del dictionary['perro']\n",
    "print(dictionary)\n",
    "\n",
    "# si no existe y se quiere eliminar genera error\n"
   ]
  },
  {
   "cell_type": "code",
   "execution_count": 12,
   "metadata": {},
   "outputs": [
    {
     "name": "stdout",
     "output_type": "stream",
     "text": [
      "{'gato': 'chat', 'perro': 'chien'}\n"
     ]
    }
   ],
   "source": [
    "# para eliminar el ultimo elemento del diccionario Extra\n",
    "dictionary = {\"gato\" : \"chat\", \"perro\" : \"chien\", \"caballo\" : \"cheval\"}\n",
    "# eliminar caballo\n",
    "dictionary.popitem()\n",
    "\n",
    "print(dictionary)    # salida: {'gato': 'chat', 'perro': 'chien'}\n"
   ]
  }
 ],
 "metadata": {
  "kernelspec": {
   "display_name": "Python 3.6.13 ('DataScience')",
   "language": "python",
   "name": "python3"
  },
  "language_info": {
   "codemirror_mode": {
    "name": "ipython",
    "version": 3
   },
   "file_extension": ".py",
   "mimetype": "text/x-python",
   "name": "python",
   "nbconvert_exporter": "python",
   "pygments_lexer": "ipython3",
   "version": "3.6.13"
  },
  "orig_nbformat": 4,
  "vscode": {
   "interpreter": {
    "hash": "d1be5dc262f941eb986cc9e4fcafd04ed5a82531a024240bb5288ec085091668"
   }
  }
 },
 "nbformat": 4,
 "nbformat_minor": 2
}
