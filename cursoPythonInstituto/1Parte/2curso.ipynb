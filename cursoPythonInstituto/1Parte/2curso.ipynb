{
 "cells": [
  {
   "cell_type": "code",
   "execution_count": 1,
   "metadata": {},
   "outputs": [
    {
     "name": "stdout",
     "output_type": "stream",
     "text": [
      "11111111\n"
     ]
    }
   ],
   "source": [
    "# test de funcionamiento\n",
    "h =     11_111_111\n",
    "print(h)"
   ]
  },
  {
   "cell_type": "code",
   "execution_count": 9,
   "metadata": {},
   "outputs": [
    {
     "name": "stdout",
     "output_type": "stream",
     "text": [
      "83\n",
      "291\n"
     ]
    }
   ],
   "source": [
    "# numero octal\n",
    "print(0o123)\n",
    "# numero hexadecimal\n",
    "print(0x123)\n",
    "# valor con exponente \n",
    "x = 52E8\n",
    "\n",
    "literal = 'c'\n",
    "literal1 = 123\n",
    "\n",
    "# giones bajo\n",
    "numeroGrade= 111_111_111\n",
    "numeroGrade2= -111_111_111"
   ]
  },
  {
   "cell_type": "code",
   "execution_count": 10,
   "metadata": {},
   "outputs": [
    {
     "name": "stdout",
     "output_type": "stream",
     "text": [
      "Me gusta \"Monty Python\"\n",
      "Me gusta \"Monty Python\"\n"
     ]
    }
   ],
   "source": [
    "# formas de escribir dentro de comillas\n",
    "print(\"Me gusta \\\"Monty Python\\\"\")\n",
    "print('Me gusta \"Monty Python\"')\n"
   ]
  },
  {
   "cell_type": "code",
   "execution_count": 11,
   "metadata": {},
   "outputs": [
    {
     "name": "stdout",
     "output_type": "stream",
     "text": [
      "True\n",
      "False\n",
      "512\n"
     ]
    }
   ],
   "source": [
    "print(True > False)\n",
    "print(True < False)\n",
    "# decimal a binario\n",
    "x=int(bin(11)[2:])\n",
    "# binario a decimal\n",
    "b=1011\n",
    "y=int(str(b), 2)\n",
    "test=(9 % 6 % 2)\n",
    "print(8*8*8)"
   ]
  },
  {
   "cell_type": "code",
   "execution_count": 12,
   "metadata": {},
   "outputs": [
    {
     "name": "stdout",
     "output_type": "stream",
     "text": [
      "10.0\n"
     ]
    }
   ],
   "source": [
    "print((5 * ((25 % 13) + 100) / (2 * 13)) // 2)"
   ]
  },
  {
   "cell_type": "code",
   "execution_count": 2,
   "metadata": {},
   "outputs": [
    {
     "name": "stdout",
     "output_type": "stream",
     "text": [
      "10.0\n",
      "1\n"
     ]
    }
   ],
   "source": [
    "print((5 * ((25 % 13) + 100) / (2 * 13)) // 2)\n",
    "print(2 * 3 % 5)# primero la multiplicacion luego hace el residuo de la operacion"
   ]
  }
 ],
 "metadata": {
  "interpreter": {
   "hash": "b29bf69b3514e4d81d8d7270d3e79b6172177f70cb2813e3b3390549273705d0"
  },
  "kernelspec": {
   "display_name": "Python 3.6.13 ('datascience')",
   "language": "python",
   "name": "python3"
  },
  "language_info": {
   "codemirror_mode": {
    "name": "ipython",
    "version": 3
   },
   "file_extension": ".py",
   "mimetype": "text/x-python",
   "name": "python",
   "nbconvert_exporter": "python",
   "pygments_lexer": "ipython3",
   "version": "3.6.13"
  },
  "orig_nbformat": 4
 },
 "nbformat": 4,
 "nbformat_minor": 2
}
