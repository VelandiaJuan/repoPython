{
 "cells": [
  {
   "cell_type": "code",
   "execution_count": 2,
   "metadata": {},
   "outputs": [
    {
     "name": "stdout",
     "output_type": "stream",
     "text": [
      "Lo siento, no contienes ningún valor\n"
     ]
    }
   ],
   "source": [
    "value = None\n",
    "if value is None:\n",
    "    print(\"Lo siento, no contienes ningún valor\")\n"
   ]
  },
  {
   "cell_type": "code",
   "execution_count": 3,
   "metadata": {},
   "outputs": [
    {
     "name": "stdout",
     "output_type": "stream",
     "text": [
      "True\n",
      "None\n"
     ]
    }
   ],
   "source": [
    "# Algunas palabras acerca de None: continuación\n",
    "def strange_function(n):\n",
    "    if(n % 2 == 0):\n",
    "        return True\n",
    "print(strange_function(2))\n",
    "print(strange_function(1))\n",
    "# retorna None si no contiene ningun valor\n"
   ]
  },
  {
   "cell_type": "code",
   "execution_count": 6,
   "metadata": {},
   "outputs": [
    {
     "name": "stdout",
     "output_type": "stream",
     "text": [
      "12\n"
     ]
    }
   ],
   "source": [
    "# Efectos y resultados: listas y funciones\n",
    "def list_sum(lst):#funcion para sumar\n",
    "    s = 0\n",
    "    for elem in lst:\n",
    "        s += elem\n",
    "    return s\n",
    "\n",
    "print(list_sum([5, 4, 3]))\n",
    "# print(list_sum((5)))#no se puede si no es una Lista"
   ]
  },
  {
   "cell_type": "code",
   "execution_count": 9,
   "metadata": {},
   "outputs": [
    {
     "name": "stdout",
     "output_type": "stream",
     "text": [
      "[4, 3, 2, 1, 0]\n",
      "[9, 8, 7, 6, 5, 4, 3, 2, 1, 0]\n"
     ]
    }
   ],
   "source": [
    "# funcion para crear una lista hasta el valor de n \n",
    "def strange_list_fun(n):\n",
    "    strange_list = []\n",
    "    \n",
    "    for i in range(0, n):\n",
    "        strange_list.insert(0, i)\n",
    "    \n",
    "    return strange_list\n",
    "\n",
    "print(strange_list_fun(5))\n",
    "print(strange_list_fun(10))\n"
   ]
  },
  {
   "cell_type": "code",
   "execution_count": 11,
   "metadata": {},
   "outputs": [
    {
     "name": "stdout",
     "output_type": "stream",
     "text": [
      "1900 ->OK\n",
      "2000 ->OK\n",
      "2016 ->OK\n",
      "1987 ->OK\n"
     ]
    }
   ],
   "source": [
    "# primer laboratorio identificar si year es bisiesto\n",
    "def is_year_leap(year):\n",
    "    if(year % 4 == 0 and (year % 100 != 0 or year % 400 == 0)):\n",
    "        return True\n",
    "    else:\n",
    "        return False\n",
    "\n",
    "test_data = [1900, 2000, 2016, 1987]\n",
    "test_results = [False, True, True, False]\n",
    "for i in range(len(test_data)):\n",
    "\tyr = test_data[i]\n",
    "\tprint(yr,\"->\",end=\"\")\n",
    "\tresult = is_year_leap(yr)\n",
    "\tif result == test_results[i]:\n",
    "\t\tprint(\"OK\")\n",
    "\telse:\n",
    "\t\tprint(\"Fallido\")"
   ]
  },
  {
   "cell_type": "code",
   "execution_count": 16,
   "metadata": {},
   "outputs": [
    {
     "name": "stdout",
     "output_type": "stream",
     "text": [
      "1900 2 ->OK\n",
      "2000 2 ->OK\n",
      "2016 1 ->OK\n",
      "1987 11 ->OK\n"
     ]
    }
   ],
   "source": [
    "def is_year_leap(year):# Tu código del LABORATORIO 4.3.1.6.\n",
    "    if(year % 4 == 0 and (year % 100 != 0 or year % 400 == 0)):\n",
    "        return True\n",
    "    else:\n",
    "        return False\n",
    "\n",
    "def days_in_month(year, month):# Tu código del LABORATORIO 4.3.1.7.\n",
    "\tif month in [4,6,9,11]:\n",
    "\t\treturn 30\n",
    "\tif month == 2:\n",
    "\t\tif(is_year_leap(year)):\n",
    "\t\t\treturn 29\n",
    "\t\telse:\n",
    "\t\t\treturn 28\n",
    "\telse:\n",
    "\t\treturn 31\n",
    "\n",
    "test_years = [1900, 2000, 2016, 1987]\n",
    "test_months = [2, 2, 1, 11]\n",
    "test_results = [28, 29, 31, 30]\n",
    "for i in range(len(test_years)):\n",
    "\tyr = test_years[i]\n",
    "\tmo = test_months[i]\n",
    "\tprint(yr, mo, \"->\", end=\"\")\n",
    "\tresult = days_in_month(yr, mo)\n",
    "\tif result == test_results[i]:\n",
    "\t\tprint(\"OK\")\n",
    "\telse:\n",
    "\t\tprint(\"Fallido\")"
   ]
  }
 ],
 "metadata": {
  "kernelspec": {
   "display_name": "Python 3.6.13 ('dataScience')",
   "language": "python",
   "name": "python3"
  },
  "language_info": {
   "codemirror_mode": {
    "name": "ipython",
    "version": 3
   },
   "file_extension": ".py",
   "mimetype": "text/x-python",
   "name": "python",
   "nbconvert_exporter": "python",
   "pygments_lexer": "ipython3",
   "version": "3.6.13"
  },
  "orig_nbformat": 4,
  "vscode": {
   "interpreter": {
    "hash": "81b1b17ebef3e6590264095a57a658b2841900a988b0a9f9a97344b4e257273c"
   }
  }
 },
 "nbformat": 4,
 "nbformat_minor": 2
}
