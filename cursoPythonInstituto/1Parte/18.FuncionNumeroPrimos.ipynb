{
 "cells": [
  {
   "cell_type": "code",
   "execution_count": 5,
   "metadata": {},
   "outputs": [
    {
     "name": "stdout",
     "output_type": "stream",
     "text": [
      "2 3 5 7 11 13 17 19 \n"
     ]
    }
   ],
   "source": [
    "# ejercicio definir los numeros primos \n",
    "def is_prime(num):#función para identificar si un numero es primo\n",
    "    for i in range(2,num):# Empieza en el valor de 2 porque el 1 no aplica\n",
    "        if(num % i == 0 ):\n",
    "            return False\n",
    "    return True\n",
    "#\n",
    "# Escribe tu código aquí.\n",
    "#\n",
    "\n",
    "for i in range(1, 20):\n",
    "\tif is_prime(i + 1):\n",
    "\t\t\tprint(i + 1, end=\" \")\n",
    "print()"
   ]
  },
  {
   "cell_type": "code",
   "execution_count": 9,
   "metadata": {},
   "outputs": [
    {
     "name": "stdout",
     "output_type": "stream",
     "text": [
      "0.016604301587301584\n",
      "0.031931349206349206\n",
      "0.04257513227513227\n",
      "14183.4645\n",
      "7385.751\n",
      "5527.5525\n"
     ]
    }
   ],
   "source": [
    "def liters_100km_to_miles_gallon(liters):\n",
    "    return (liters*1609.34/(100*1e3*3.78))\n",
    "def miles_gallon_to_liters_100km(miles):\n",
    "    return (miles*235.215)\n",
    "\n",
    "\n",
    "print(liters_100km_to_miles_gallon(3.9))\n",
    "print(liters_100km_to_miles_gallon(7.5))\n",
    "print(liters_100km_to_miles_gallon(10.))\n",
    "print(miles_gallon_to_liters_100km(60.3))\n",
    "print(miles_gallon_to_liters_100km(31.4))\n",
    "print(miles_gallon_to_liters_100km(23.5))"
   ]
  },
  {
   "cell_type": "code",
   "execution_count": 10,
   "metadata": {},
   "outputs": [
    {
     "name": "stdout",
     "output_type": "stream",
     "text": [
      "[0, 2, 4, 6, 8, 10]\n"
     ]
    }
   ],
   "source": [
    "def even_num_lst(ran):\n",
    "    lst = []\n",
    "    for num in range(ran):\n",
    "        if num % 2 == 0:\n",
    "            lst.append(num)\n",
    "    return lst\n",
    "\n",
    "print(even_num_lst(11))"
   ]
  },
  {
   "cell_type": "code",
   "execution_count": 11,
   "metadata": {},
   "outputs": [
    {
     "name": "stdout",
     "output_type": "stream",
     "text": [
      "[1, 4, 9, 16, 25]\n"
     ]
    }
   ],
   "source": [
    "def list_updater(lst):\n",
    "    upd_list = []\n",
    "    for elem in lst:\n",
    "        elem **= 2\n",
    "        upd_list.append(elem)\n",
    "    return upd_list\n",
    "\n",
    "foo = [1, 2, 3, 4, 5]\n",
    "print(list_updater(foo))"
   ]
  },
  {
   "cell_type": "code",
   "execution_count": 12,
   "metadata": {},
   "outputs": [
    {
     "ename": "NameError",
     "evalue": "name 'x' is not defined",
     "output_type": "error",
     "traceback": [
      "\u001b[1;31m---------------------------------------------------------------------------\u001b[0m",
      "\u001b[1;31mNameError\u001b[0m                                 Traceback (most recent call last)",
      "\u001b[1;32m<ipython-input-12-f4e8e89306bf>\u001b[0m in \u001b[0;36m<module>\u001b[1;34m\u001b[0m\n\u001b[0;32m      4\u001b[0m \u001b[1;33m\u001b[0m\u001b[0m\n\u001b[0;32m      5\u001b[0m \u001b[0mscope_test\u001b[0m\u001b[1;33m(\u001b[0m\u001b[1;33m)\u001b[0m\u001b[1;33m\u001b[0m\u001b[1;33m\u001b[0m\u001b[0m\n\u001b[1;32m----> 6\u001b[1;33m \u001b[0mprint\u001b[0m\u001b[1;33m(\u001b[0m\u001b[0mx\u001b[0m\u001b[1;33m)\u001b[0m\u001b[1;31m#las variables de la función son internas no se ven\u001b[0m\u001b[1;33m\u001b[0m\u001b[1;33m\u001b[0m\u001b[0m\n\u001b[0m",
      "\u001b[1;31mNameError\u001b[0m: name 'x' is not defined"
     ]
    }
   ],
   "source": [
    "def scope_test():\n",
    "    x = 123\n",
    "\n",
    "\n",
    "scope_test()\n",
    "print(x)#las variables de la función son internas no se ven\n"
   ]
  },
  {
   "cell_type": "code",
   "execution_count": 13,
   "metadata": {},
   "outputs": [
    {
     "name": "stdout",
     "output_type": "stream",
     "text": [
      "¿Conozco a la variable? 1\n",
      "1\n"
     ]
    }
   ],
   "source": [
    "def my_function():\n",
    "    print(\"¿Conozco a la variable?\", var)\n",
    "\n",
    "\n",
    "var = 1\n",
    "my_function()\n",
    "print(var)\n"
   ]
  },
  {
   "cell_type": "code",
   "execution_count": 14,
   "metadata": {},
   "outputs": [
    {
     "name": "stdout",
     "output_type": "stream",
     "text": [
      "¿Conozco a la variable? 2\n",
      "1\n"
     ]
    }
   ],
   "source": [
    "def my_function():\n",
    "    var = 2\n",
    "    print(\"¿Conozco a la variable?\", var)\n",
    "\n",
    "\n",
    "var = 1\n",
    "my_function()\n",
    "print(var)"
   ]
  },
  {
   "cell_type": "markdown",
   "metadata": {},
   "source": [
    "Una variable que existe fuera de una función tiene un alcance dentro del cuerpo de la función, excluyendo a aquellas que tienen el mismo nombre.\n",
    "\n",
    "También significa que el alcance de una variable existente fuera de una función solo se puede implementar dentro de una función cuando su valor es leído. El asignar un valor hace que la función cree su propia variable.\n",
    "\n",
    "Asegúrate bien de entender esto correctamente y de realizar tus propios experimentos."
   ]
  },
  {
   "cell_type": "code",
   "execution_count": 15,
   "metadata": {},
   "outputs": [
    {
     "name": "stdout",
     "output_type": "stream",
     "text": [
      "¿Conozco a aquella variable? 2\n",
      "2\n"
     ]
    }
   ],
   "source": [
    "# Definicion de variables globales\n",
    "def my_function():\n",
    "    global var\n",
    "    var = 2\n",
    "    print(\"¿Conozco a aquella variable?\", var)\n",
    "\n",
    "\n",
    "var = 1\n",
    "my_function()\n",
    "print(var)"
   ]
  },
  {
   "cell_type": "code",
   "execution_count": 1,
   "metadata": {},
   "outputs": [
    {
     "ename": "NameError",
     "evalue": "name 'x' is not defined",
     "output_type": "error",
     "traceback": [
      "\u001b[1;31m---------------------------------------------------------------------------\u001b[0m",
      "\u001b[1;31mNameError\u001b[0m                                 Traceback (most recent call last)",
      "\u001b[1;32m<ipython-input-1-50379cea6350>\u001b[0m in \u001b[0;36m<module>\u001b[1;34m\u001b[0m\n\u001b[0;32m      4\u001b[0m \u001b[1;33m\u001b[0m\u001b[0m\n\u001b[0;32m      5\u001b[0m \u001b[0mscope_test\u001b[0m\u001b[1;33m(\u001b[0m\u001b[1;33m)\u001b[0m\u001b[1;33m\u001b[0m\u001b[1;33m\u001b[0m\u001b[0m\n\u001b[1;32m----> 6\u001b[1;33m \u001b[0mprint\u001b[0m\u001b[1;33m(\u001b[0m\u001b[0mx\u001b[0m\u001b[1;33m)\u001b[0m\u001b[1;33m\u001b[0m\u001b[1;33m\u001b[0m\u001b[0m\n\u001b[0m",
      "\u001b[1;31mNameError\u001b[0m: name 'x' is not defined"
     ]
    }
   ],
   "source": [
    "def scope_test():\n",
    "    x = 123\n",
    "\n",
    "\n",
    "scope_test()\n",
    "print(x)\n"
   ]
  },
  {
   "cell_type": "code",
   "execution_count": 2,
   "metadata": {},
   "outputs": [
    {
     "name": "stdout",
     "output_type": "stream",
     "text": [
      "Yo recibí 1\n",
      "Ahora tengo 2\n",
      "1\n"
     ]
    }
   ],
   "source": [
    "def my_function(n):\n",
    "    print(\"Yo recibí\", n)\n",
    "    n += 1\n",
    "    print(\"Ahora tengo\", n)\n",
    "\n",
    "\n",
    "var = 1\n",
    "my_function(var)\n",
    "print(var)"
   ]
  },
  {
   "cell_type": "code",
   "execution_count": 3,
   "metadata": {},
   "outputs": [
    {
     "name": "stdout",
     "output_type": "stream",
     "text": [
      "Print #1: [2, 3]\n",
      "Print #2: [2, 3]\n",
      "Print #3: [0, 1]\n",
      "Print #4: [2, 3]\n",
      "Print #5: [2, 3]\n"
     ]
    }
   ],
   "source": [
    "def my_function(my_list_1):\n",
    "    print(\"Print #1:\", my_list_1)\n",
    "    print(\"Print #2:\", my_list_2)\n",
    "    my_list_1 = [0, 1]\n",
    "    print(\"Print #3:\", my_list_1)\n",
    "    print(\"Print #4:\", my_list_2)\n",
    "\n",
    "\n",
    "my_list_2 = [2, 3]\n",
    "my_function(my_list_2)\n",
    "print(\"Print #5:\", my_list_2)\n",
    "\n"
   ]
  },
  {
   "cell_type": "code",
   "execution_count": 5,
   "metadata": {},
   "outputs": [
    {
     "name": "stdout",
     "output_type": "stream",
     "text": [
      "Print #1: [2, 3]\n",
      "Print #2: [2, 3]\n",
      "Print #3: [3]\n",
      "Print #4: [3]\n",
      "Print #5: [3]\n"
     ]
    }
   ],
   "source": [
    "def my_function(my_list_1):\n",
    "    print(\"Print #1:\", my_list_1)\n",
    "    print(\"Print #2:\", my_list_2)\n",
    "    # eliminar primer elemento de la lista\n",
    "    del my_list_1[0]  # Presta atención a esta línea.\n",
    "    print(\"Print #3:\", my_list_1)\n",
    "    print(\"Print #4:\", my_list_2)\n",
    "\n",
    "\n",
    "my_list_2 = [2, 3]\n",
    "my_function(my_list_2)\n",
    "print(\"Print #5:\", my_list_2)\n",
    "\n"
   ]
  },
  {
   "cell_type": "markdown",
   "metadata": {},
   "source": [
    "Feedback de la Sesión"
   ]
  },
  {
   "cell_type": "code",
   "execution_count": 6,
   "metadata": {},
   "outputs": [
    {
     "name": "stdout",
     "output_type": "stream",
     "text": [
      "14\n"
     ]
    }
   ],
   "source": [
    "var = 2\n",
    "def mult_by_var(x):\n",
    "    return x * var\n",
    "print(mult_by_var(7))    # salida: 14"
   ]
  }
 ],
 "metadata": {
  "kernelspec": {
   "display_name": "Python 3.6.13 ('DataScience')",
   "language": "python",
   "name": "python3"
  },
  "language_info": {
   "codemirror_mode": {
    "name": "ipython",
    "version": 3
   },
   "file_extension": ".py",
   "mimetype": "text/x-python",
   "name": "python",
   "nbconvert_exporter": "python",
   "pygments_lexer": "ipython3",
   "version": "3.6.13"
  },
  "orig_nbformat": 4,
  "vscode": {
   "interpreter": {
    "hash": "d1be5dc262f941eb986cc9e4fcafd04ed5a82531a024240bb5288ec085091668"
   }
  }
 },
 "nbformat": 4,
 "nbformat_minor": 2
}
