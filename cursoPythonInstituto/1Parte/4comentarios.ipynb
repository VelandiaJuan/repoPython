{
 "cells": [
  {
   "cell_type": "code",
   "execution_count": 3,
   "metadata": {},
   "outputs": [
    {
     "name": "stdout",
     "output_type": "stream",
     "text": [
      "c = 5.0\n"
     ]
    }
   ],
   "source": [
    "# la importancia de los comentarios\n",
    "# Esta programa calcula la hipotenusa (c)\n",
    "# a y b son las longitudes de los catetos\n",
    "a = 3.0\n",
    "b = 4.0\n",
    "c = (a ** 2 + b ** 2) ** 0.5  # se utiliza ** en lugar de la raíz cuadrada.\n",
    "print(\"c =\", c)"
   ]
  },
  {
   "cell_type": "code",
   "execution_count": 4,
   "metadata": {},
   "outputs": [
    {
     "name": "stdout",
     "output_type": "stream",
     "text": [
      "3\n"
     ]
    }
   ],
   "source": [
    "# Este es un programa de prueba.\n",
    "x = 1\n",
    "y = 2\n",
    "# y = y + x\n",
    "print(x + y)"
   ]
  },
  {
   "cell_type": "code",
   "execution_count": 5,
   "metadata": {},
   "outputs": [
    {
     "name": "stdout",
     "output_type": "stream",
     "text": [
      "Horas:  2\n",
      "Segundos en Horas:  7200\n",
      "Adios Amigo\n"
     ]
    }
   ],
   "source": [
    "# este programa calcula los segundos en cierto número de horas determinadas \n",
    "\n",
    "a = 2 # número de horas\n",
    "seconds = 3600 # número de segundos en una hora\n",
    "\n",
    "print(\"Horas: \", a) \n",
    "print(\"Segundos en Horas: \", a * seconds) \n",
    "\n",
    "print('Adios Amigo')\n",
    "#este el es fin del programa que calcula el numero de segundos en 2 horas"
   ]
  },
  {
   "cell_type": "code",
   "execution_count": 6,
   "metadata": {},
   "outputs": [
    {
     "name": "stdout",
     "output_type": "stream",
     "text": [
      "Dime algo...\n",
      "Mmm... estadosUNidos ...¿en serio?\n"
     ]
    }
   ],
   "source": [
    "print(\"Dime algo...\")\n",
    "anything = input()\n",
    "print(\"Mmm...\", anything, \"...¿en serio?\")"
   ]
  },
  {
   "cell_type": "code",
   "execution_count": 8,
   "metadata": {},
   "outputs": [
    {
     "ename": "TypeError",
     "evalue": "unsupported operand type(s) for ** or pow(): 'str' and 'float'",
     "output_type": "error",
     "traceback": [
      "\u001b[1;31m---------------------------------------------------------------------------\u001b[0m",
      "\u001b[1;31mTypeError\u001b[0m                                 Traceback (most recent call last)",
      "\u001b[1;32m<ipython-input-8-6ccc561d5c9e>\u001b[0m in \u001b[0;36m<module>\u001b[1;34m\u001b[0m\n\u001b[0;32m      1\u001b[0m \u001b[0manything\u001b[0m \u001b[1;33m=\u001b[0m \u001b[0minput\u001b[0m\u001b[1;33m(\u001b[0m\u001b[1;34m\"Inserta un número: \"\u001b[0m\u001b[1;33m)\u001b[0m\u001b[1;33m\u001b[0m\u001b[1;33m\u001b[0m\u001b[0m\n\u001b[1;32m----> 2\u001b[1;33m \u001b[0msomething\u001b[0m \u001b[1;33m=\u001b[0m \u001b[0manything\u001b[0m \u001b[1;33m**\u001b[0m \u001b[1;36m2.0\u001b[0m\u001b[1;33m\u001b[0m\u001b[1;33m\u001b[0m\u001b[0m\n\u001b[0m\u001b[0;32m      3\u001b[0m \u001b[0mprint\u001b[0m\u001b[1;33m(\u001b[0m\u001b[0manything\u001b[0m\u001b[1;33m,\u001b[0m \u001b[1;34m\"al cuadrado es\"\u001b[0m\u001b[1;33m,\u001b[0m \u001b[0msomething\u001b[0m\u001b[1;33m)\u001b[0m\u001b[1;33m\u001b[0m\u001b[1;33m\u001b[0m\u001b[0m\n",
      "\u001b[1;31mTypeError\u001b[0m: unsupported operand type(s) for ** or pow(): 'str' and 'float'"
     ]
    }
   ],
   "source": [
    "# no se puede porque retorna un caracter\n",
    "anything = input(\"Inserta un número: \")\n",
    "something = anything ** 2.0\n",
    "print(anything, \"al cuadrado es\", something)"
   ]
  },
  {
   "cell_type": "code",
   "execution_count": 9,
   "metadata": {},
   "outputs": [
    {
     "name": "stdout",
     "output_type": "stream",
     "text": [
      "25.0 al cuadrado es 625.0\n"
     ]
    }
   ],
   "source": [
    "anything = float(input(\"Inserta un número: \"))\n",
    "something = anything ** 2.0\n",
    "print(anything, \"al cuadrado es\", something)"
   ]
  },
  {
   "cell_type": "code",
   "execution_count": 10,
   "metadata": {},
   "outputs": [
    {
     "name": "stdout",
     "output_type": "stream",
     "text": [
      "La longitud de la hipotenusa es: 26.92582403567252\n"
     ]
    }
   ],
   "source": [
    "leg_a = float(input(\"Inserta la longitud del primer cateto: \"))\n",
    "leg_b = float(input(\"Inserta la longitud del segundo cateto: \"))\n",
    "hypo = (leg_a**2 + leg_b**2) ** .5\n",
    "print(\"La longitud de la hipotenusa es:\", hypo)"
   ]
  },
  {
   "cell_type": "code",
   "execution_count": 11,
   "metadata": {},
   "outputs": [
    {
     "name": "stdout",
     "output_type": "stream",
     "text": [
      "Gracias.\n",
      "\n",
      "Tu nombre es Juan Velandia.\n"
     ]
    }
   ],
   "source": [
    "# concatenacion\n",
    "fnam = input(\"¿Me puedes dar tu nombre por favor? \")\n",
    "lnam = input(\"¿Me puedes dar tu apellido por favor? \")\n",
    "print(\"Gracias.\")\n",
    "print(\"\\nTu nombre es \" + fnam + \" \" + lnam + \".\")\n"
   ]
  },
  {
   "cell_type": "code",
   "execution_count": 12,
   "metadata": {},
   "outputs": [
    {
     "name": "stdout",
     "output_type": "stream",
     "text": [
      "+----------+\n",
      "|          |\n",
      "|          |\n",
      "|          |\n",
      "|          |\n",
      "|          |\n",
      "+----------+\n"
     ]
    }
   ],
   "source": [
    "# cuadrado\n",
    "print(\"+\" + 10 * \"-\" + \"+\")\n",
    "print((\"|\" + \" \" * 10 + \"|\\n\") * 5, end=\"\")\n",
    "print(\"+\" + 10 * \"-\" + \"+\")\n",
    "\n"
   ]
  },
  {
   "cell_type": "markdown",
   "metadata": {},
   "source": []
  },
  {
   "cell_type": "code",
   "execution_count": 18,
   "metadata": {},
   "outputs": [
    {
     "name": "stdout",
     "output_type": "stream",
     "text": [
      "La longitud de la hipotenusa es 16.97056274847714\n",
      "La longitud de la hipotenusa es  16.97056274847714\n"
     ]
    }
   ],
   "source": [
    "leg_a = float(input(\"Inserta la longitud del primer cateto: \"))\n",
    "leg_b = float(input(\"Inserta la longitud del segundo cateto: \"))\n",
    "print(\"La longitud de la hipotenusa es \" + str((leg_a**2 + leg_b**2) ** .5))#forma de llamarlo sin coma\n",
    "print(\"La longitud de la hipotenusa es \" ,((leg_a**2 + leg_b**2) ** .5))#otra forma para llamarlo con coma "
   ]
  },
  {
   "cell_type": "code",
   "execution_count": 20,
   "metadata": {},
   "outputs": [
    {
     "name": "stdout",
     "output_type": "stream",
     "text": [
      "la suma de a + b = 24.0\n",
      "la suma de a - b = 0.0\n",
      "la suma de a*b = 144.0\n",
      "la suma de a / b = 1.0\n",
      "\n",
      "¡Eso es todo, amigos!\n"
     ]
    }
   ],
   "source": [
    "# ejercicio propuesto\n",
    "# ingresa un valor flotante para la variable a aquí\n",
    "a = float(input('ingrese el valor de a'))\n",
    "# ingresa un valor flotante para la variable b aquí\n",
    "b = float(input('ingrese el valor de b'))\n",
    "\n",
    "# muestra el resultado de la suma aquí \n",
    "print('la suma de a + b = '+str(a+b))\n",
    "# muestra el resultado de la resta aquí\n",
    "print('la suma de a - b = '+str(a-b))\n",
    "# muestra el resultado de la multiplicación aquí\n",
    "print('la suma de a*b = '+str(a*b))\n",
    "# muestra el resultado de la división aquí\n",
    "print('la suma de a / b = '+str(a/b))\n",
    "\n",
    "print(\"\\n¡Eso es todo, amigos!\")\n"
   ]
  },
  {
   "cell_type": "code",
   "execution_count": 22,
   "metadata": {},
   "outputs": [
    {
     "name": "stdout",
     "output_type": "stream",
     "text": [
      "y = -0.19258202567760344\n"
     ]
    }
   ],
   "source": [
    "x = float(input(\"Ingresa el valor para x: \"))\n",
    "\n",
    "# Escribe tu código aquí.\n",
    "\n",
    "y = 1/(x+ (1/(x+ (1/(x+ 1/x)))))\n",
    "\n",
    "print(\"y =\", y)\n"
   ]
  },
  {
   "cell_type": "code",
   "execution_count": 43,
   "metadata": {},
   "outputs": [
    {
     "name": "stdout",
     "output_type": "stream",
     "text": [
      "la hora de salida es de 1  horas y 0 minutos\n"
     ]
    }
   ],
   "source": [
    "hour = int(input(\"Hora de inicio (horas): \"))\n",
    "mins = int(input(\"Minuto de inicio (minutos): \"))\n",
    "dura = int(input(\"Duración del evento (minutos): \"))\n",
    "\n",
    "# Escribe tu código aqui.\n",
    "minutostotales = dura + mins\n",
    "if (minutostotales > 60):#si tiene mas 60\n",
    "    minutosC = minutostotales  -(minutostotales // 60)*60\n",
    "    tiempo_extra = minutostotales // 60\n",
    "    hour_resultado = hour + tiempo_extra\n",
    "else:\n",
    "    hour_resultado = hour\n",
    "    minutosC = minutostotales\n",
    "\n",
    "# condicion para la hora\n",
    "if(hour_resultado>=24):\n",
    "    hour_resultado = hour_resultado % 24\n",
    "\n",
    "print('la hora de salida es de',hour_resultado,' horas y',minutosC,'minutos' )"
   ]
  },
  {
   "cell_type": "code",
   "execution_count": 49,
   "metadata": {},
   "outputs": [
    {
     "name": "stdout",
     "output_type": "stream",
     "text": [
      "0\n",
      "2 1\n",
      "2.4\n"
     ]
    }
   ],
   "source": [
    "\n",
    "print(1//2*3)\n",
    "x = 1\n",
    "y = 2\n",
    "z = x\n",
    "x = y\n",
    "y = z\n",
    "print(x,y)\n",
    "print(12/5)"
   ]
  },
  {
   "cell_type": "code",
   "execution_count": 50,
   "metadata": {},
   "outputs": [
    {
     "name": "stdout",
     "output_type": "stream",
     "text": [
      "1\n"
     ]
    }
   ],
   "source": [
    "x = 11\n",
    "y = 4\n",
    "x = x%y\n",
    "x = x%y\n",
    "y = y % x\n",
    "print(y)"
   ]
  },
  {
   "cell_type": "code",
   "execution_count": 1,
   "metadata": {},
   "outputs": [
    {
     "name": "stdout",
     "output_type": "stream",
     "text": [
      "1*1*1\n"
     ]
    }
   ],
   "source": [
    "z = y = x = 1\n",
    "print(x,y,z,sep='*')"
   ]
  },
  {
   "cell_type": "code",
   "execution_count": 2,
   "metadata": {},
   "outputs": [
    {
     "name": "stdout",
     "output_type": "stream",
     "text": [
      "17.5\n"
     ]
    }
   ],
   "source": [
    "x = 1 / 2  + 3 // 3+4 **2\n",
    "print(x)"
   ]
  },
  {
   "cell_type": "code",
   "execution_count": 7,
   "metadata": {},
   "outputs": [
    {
     "name": "stdout",
     "output_type": "stream",
     "text": [
      "8.0\n"
     ]
    }
   ],
   "source": [
    "x = int(input())\n",
    "y = 4\n",
    "x = x/y\n",
    "y /=x\n",
    "print(y) "
   ]
  },
  {
   "cell_type": "code",
   "execution_count": null,
   "metadata": {},
   "outputs": [],
   "source": [
    "y = 2+ 3 * 5.\n",
    "orint(Y)"
   ]
  }
 ],
 "metadata": {
  "interpreter": {
   "hash": "b29bf69b3514e4d81d8d7270d3e79b6172177f70cb2813e3b3390549273705d0"
  },
  "kernelspec": {
   "display_name": "Python 3.6.13 ('datascience')",
   "language": "python",
   "name": "python3"
  },
  "language_info": {
   "codemirror_mode": {
    "name": "ipython",
    "version": 3
   },
   "file_extension": ".py",
   "mimetype": "text/x-python",
   "name": "python",
   "nbconvert_exporter": "python",
   "pygments_lexer": "ipython3",
   "version": "3.6.13"
  },
  "orig_nbformat": 4
 },
 "nbformat": 4,
 "nbformat_minor": 2
}
