{
 "cells": [
  {
   "cell_type": "code",
   "execution_count": 1,
   "metadata": {},
   "outputs": [
    {
     "name": "stdout",
     "output_type": "stream",
     "text": [
      "Hola, Juan Velandia\n"
     ]
    }
   ],
   "source": [
    "# Definición de función con parametros de entrada\n",
    "def hello(name):    # definiendo una función\n",
    "    print(\"Hola,\", name)    # cuerpo de la función\n",
    "\n",
    "\n",
    "name = input(\"Ingresa tu nombre: \")\n",
    "\n",
    "hello(name)    # invocación de la función"
   ]
  },
  {
   "cell_type": "code",
   "execution_count": 2,
   "metadata": {},
   "outputs": [
    {
     "name": "stdout",
     "output_type": "stream",
     "text": [
      "Ingresa un número: 1\n",
      "1234\n"
     ]
    }
   ],
   "source": [
    "# las variables definidas en la función solo se utlizan dentro de la función\n",
    "def message(number):\n",
    "    print(\"Ingresa un número:\", number)\n",
    "\n",
    "number = 1234\n",
    "message(1)\n",
    "print(number)"
   ]
  },
  {
   "cell_type": "code",
   "execution_count": 3,
   "metadata": {},
   "outputs": [
    {
     "name": "stdout",
     "output_type": "stream",
     "text": [
      "Ingresa Telefono numero 12 Nombre Juan\n",
      "Ingresa Prize numero 5 Nombre Velanida\n",
      "Ingresa Taxes numero 1 Nombre Misael\n"
     ]
    }
   ],
   "source": [
    "# función con dos argumentos\n",
    "def mensaje(what,number,nombre):\n",
    "    print('Ingresa',what,'numero',number,'Nombre',nombre)\n",
    "\n",
    "mensaje('Telefono',12,'Juan')\n",
    "mensaje('Prize',5,'Velanida')\n",
    "mensaje('Taxes',1,'Misael')"
   ]
  },
  {
   "cell_type": "code",
   "execution_count": 1,
   "metadata": {},
   "outputs": [
    {
     "name": "stdout",
     "output_type": "stream",
     "text": [
      "Hola, mi nombre es Luke Skywalker\n",
      "Hola, mi nombre es Jesse Quick\n",
      "Hola, mi nombre es Clark Kent\n"
     ]
    }
   ],
   "source": [
    "# funciones con palabras clave\n",
    "def introduction(first_name, last_name):\n",
    "    print(\"Hola, mi nombre es\", first_name, last_name)\n",
    "\n",
    "introduction(\"Luke\", \"Skywalker\")\n",
    "introduction(\"Jesse\", \"Quick\")\n",
    "introduction(\"Clark\", \"Kent\")\n"
   ]
  },
  {
   "cell_type": "code",
   "execution_count": 2,
   "metadata": {},
   "outputs": [
    {
     "name": "stdout",
     "output_type": "stream",
     "text": [
      "Hola, mi nombre es James Bond\n",
      "Hola, mi nombre es Luke Skywalker\n"
     ]
    }
   ],
   "source": [
    "def introduction(first_name, last_name):\n",
    "    print(\"Hola, mi nombre es\", first_name, last_name)\n",
    "\n",
    "introduction(first_name = \"James\", last_name = \"Bond\")\n",
    "introduction(last_name = \"Skywalker\", first_name = \"Luke\")\n"
   ]
  },
  {
   "cell_type": "code",
   "execution_count": 6,
   "metadata": {},
   "outputs": [
    {
     "name": "stdout",
     "output_type": "stream",
     "text": [
      "1 + 2 + 3 = 6\n",
      "3 + 2 + 1 = 6\n",
      "3 + 2 + 5 = 10\n"
     ]
    }
   ],
   "source": [
    "# combinar argumentos posicionales con argumentos clave\n",
    "# definir funicon de tres parametros\n",
    "def adding(a,b,c):\n",
    "    print(a,'+',b,'+',c,'=',a+b+c)\n",
    "\n",
    "adding(1,2,3)\n",
    "adding(c=1,b=2,a=3)\n",
    "# mesclado de ambas formas\n",
    "adding(3,b= 2,c=5)#tener presente que deben contener los parametros clave llamados\n",
    "\n"
   ]
  },
  {
   "cell_type": "code",
   "execution_count": 9,
   "metadata": {},
   "outputs": [
    {
     "name": "stdout",
     "output_type": "stream",
     "text": [
      "Hola, mi nombre es Jorge Pérez\n",
      "Hola, mi nombre es Enrique González\n",
      "Hola, mi nombre es Guillermo González\n"
     ]
    }
   ],
   "source": [
    "def introduction(first_name, last_name=\"González\"):\n",
    "    print(\"Hola, mi nombre es\", first_name, last_name)\n",
    "\n",
    "introduction(\"Jorge\", \"Pérez\")\n",
    "introduction(\"Enrique\")\n",
    "introduction(first_name=\"Guillermo\")"
   ]
  },
  {
   "cell_type": "code",
   "execution_count": 11,
   "metadata": {},
   "outputs": [
    {
     "name": "stdout",
     "output_type": "stream",
     "text": [
      "3\n",
      "3\n"
     ]
    }
   ],
   "source": [
    "def subtra(a, b):\n",
    "    print(a - b)\n",
    "\n",
    "subtra(5, b=2)    # salida: 3\n",
    "subtra(a=5,2)    # Syntax Error"
   ]
  },
  {
   "cell_type": "code",
   "execution_count": 12,
   "metadata": {},
   "outputs": [
    {
     "name": "stdout",
     "output_type": "stream",
     "text": [
      "Mi nombre es Bond. James Bond.\n"
     ]
    }
   ],
   "source": [
    "def intro(a=\"James Bond\", b=\"Bond\"):\n",
    "    print(\"Mi nombre es\", b + \".\", a + \".\")\n",
    "\n",
    "intro()\n"
   ]
  },
  {
   "cell_type": "code",
   "execution_count": 13,
   "metadata": {},
   "outputs": [
    {
     "name": "stdout",
     "output_type": "stream",
     "text": [
      "Mi nombre es Sergio López. James Bond.\n"
     ]
    }
   ],
   "source": [
    "def intro(a=\"James Bond\", b=\"Bond\"):\n",
    "    print(\"Mi nombre es\", b + \".\", a + \".\")\n",
    "\n",
    "intro(b=\"Sergio López\")\n"
   ]
  },
  {
   "cell_type": "code",
   "execution_count": 14,
   "metadata": {},
   "outputs": [
    {
     "ename": "SyntaxError",
     "evalue": "non-default argument follows default argument (<ipython-input-14-baf28da15cd4>, line 1)",
     "output_type": "error",
     "traceback": [
      "\u001b[1;36m  File \u001b[1;32m\"<ipython-input-14-baf28da15cd4>\"\u001b[1;36m, line \u001b[1;32m1\u001b[0m\n\u001b[1;33m    def add_numbers(a, b=2, c):\u001b[0m\n\u001b[1;37m                   ^\u001b[0m\n\u001b[1;31mSyntaxError\u001b[0m\u001b[1;31m:\u001b[0m non-default argument follows default argument\n"
     ]
    }
   ],
   "source": [
    "def add_numbers(a, b=2, c):\n",
    "    print(a + b + c)\n",
    "\n",
    "add_numbers(a=1, c=3)"
   ]
  },
  {
   "cell_type": "code",
   "execution_count": 16,
   "metadata": {},
   "outputs": [
    {
     "name": "stdout",
     "output_type": "stream",
     "text": [
      "Tres...\n",
      "Dos...\n",
      "Uno...\n",
      "¡Feliz año nuevo!\n",
      "Tres...\n",
      "Dos...\n",
      "Uno...\n"
     ]
    }
   ],
   "source": [
    "# parametro return en la funcion\n",
    "def happy_new_year(wishes = True):\n",
    "    print(\"Tres...\")\n",
    "    print(\"Dos...\")\n",
    "    print(\"Uno...\")\n",
    "    if not wishes:\n",
    "        return\n",
    "    \n",
    "    print(\"¡Feliz año nuevo!\")\n",
    "\n",
    "happy_new_year()\n",
    "happy_new_year(False)#termina la secuencia de pasos en el return"
   ]
  },
  {
   "cell_type": "code",
   "execution_count": 17,
   "metadata": {},
   "outputs": [
    {
     "name": "stdout",
     "output_type": "stream",
     "text": [
      "La función boring_function ha devuelto su resultado. Es: 123\n"
     ]
    }
   ],
   "source": [
    "def boring_function():\n",
    "    return 123\n",
    "\n",
    "x = boring_function()\n",
    "\n",
    "print(\"La función boring_function ha devuelto su resultado. Es:\", x)\n"
   ]
  }
 ],
 "metadata": {
  "kernelspec": {
   "display_name": "Python 3.6.13 ('dataScience')",
   "language": "python",
   "name": "python3"
  },
  "language_info": {
   "codemirror_mode": {
    "name": "ipython",
    "version": 3
   },
   "file_extension": ".py",
   "mimetype": "text/x-python",
   "name": "python",
   "nbconvert_exporter": "python",
   "pygments_lexer": "ipython3",
   "version": "3.6.13"
  },
  "orig_nbformat": 4,
  "vscode": {
   "interpreter": {
    "hash": "81b1b17ebef3e6590264095a57a658b2841900a988b0a9f9a97344b4e257273c"
   }
  }
 },
 "nbformat": 4,
 "nbformat_minor": 2
}
