{
 "cells": [
  {
   "cell_type": "code",
   "execution_count": 4,
   "metadata": {},
   "outputs": [],
   "source": [
    "tuple_1 = (1, 2, 4, 8)\n",
    "tuple_2 = 1., .5, .25, .125\n",
    "vector = [1,2,4]\n"
   ]
  },
  {
   "cell_type": "code",
   "execution_count": 5,
   "metadata": {},
   "outputs": [
    {
     "name": "stdout",
     "output_type": "stream",
     "text": [
      "1\n",
      "1000\n",
      "(10, 100, 1000)\n",
      "(1, 10)\n",
      "1\n",
      "10\n",
      "100\n",
      "1000\n"
     ]
    }
   ],
   "source": [
    "# impresión en la tupla y visualización \n",
    "my_tuple = (1, 10, 100, 1000)\n",
    "\n",
    "print(my_tuple[0])\n",
    "print(my_tuple[-1])\n",
    "print(my_tuple[1:])\n",
    "print(my_tuple[:-2])\n",
    "\n",
    "for elem in my_tuple:\n",
    "    print(elem)\n"
   ]
  },
  {
   "cell_type": "code",
   "execution_count": 6,
   "metadata": {},
   "outputs": [
    {
     "ename": "AttributeError",
     "evalue": "'tuple' object has no attribute 'append'",
     "output_type": "error",
     "traceback": [
      "\u001b[1;31m---------------------------------------------------------------------------\u001b[0m",
      "\u001b[1;31mAttributeError\u001b[0m                            Traceback (most recent call last)",
      "\u001b[1;32m<ipython-input-6-ac800604a44b>\u001b[0m in \u001b[0;36m<module>\u001b[1;34m\u001b[0m\n\u001b[0;32m      2\u001b[0m \u001b[0mmy_tuple\u001b[0m \u001b[1;33m=\u001b[0m \u001b[1;33m(\u001b[0m\u001b[1;36m1\u001b[0m\u001b[1;33m,\u001b[0m \u001b[1;36m10\u001b[0m\u001b[1;33m,\u001b[0m \u001b[1;36m100\u001b[0m\u001b[1;33m,\u001b[0m \u001b[1;36m1000\u001b[0m\u001b[1;33m)\u001b[0m\u001b[1;33m\u001b[0m\u001b[1;33m\u001b[0m\u001b[0m\n\u001b[0;32m      3\u001b[0m \u001b[1;33m\u001b[0m\u001b[0m\n\u001b[1;32m----> 4\u001b[1;33m \u001b[0mmy_tuple\u001b[0m\u001b[1;33m.\u001b[0m\u001b[0mappend\u001b[0m\u001b[1;33m(\u001b[0m\u001b[1;36m10000\u001b[0m\u001b[1;33m)\u001b[0m\u001b[1;33m\u001b[0m\u001b[1;33m\u001b[0m\u001b[0m\n\u001b[0m\u001b[0;32m      5\u001b[0m \u001b[1;32mdel\u001b[0m \u001b[0mmy_tuple\u001b[0m\u001b[1;33m[\u001b[0m\u001b[1;36m0\u001b[0m\u001b[1;33m]\u001b[0m\u001b[1;33m\u001b[0m\u001b[1;33m\u001b[0m\u001b[0m\n\u001b[0;32m      6\u001b[0m \u001b[0mmy_tuple\u001b[0m\u001b[1;33m[\u001b[0m\u001b[1;36m1\u001b[0m\u001b[1;33m]\u001b[0m \u001b[1;33m=\u001b[0m \u001b[1;33m-\u001b[0m\u001b[1;36m10\u001b[0m\u001b[1;33m\u001b[0m\u001b[1;33m\u001b[0m\u001b[0m\n",
      "\u001b[1;31mAttributeError\u001b[0m: 'tuple' object has no attribute 'append'"
     ]
    }
   ],
   "source": [
    "# cosas no permitidas en las tuplas\n",
    "my_tuple = (1, 10, 100, 1000)\n",
    "\n",
    "my_tuple.append(10000)\n",
    "del my_tuple[0]\n",
    "my_tuple[1] = -10"
   ]
  },
  {
   "cell_type": "code",
   "execution_count": 8,
   "metadata": {},
   "outputs": [
    {
     "name": "stdout",
     "output_type": "stream",
     "text": [
      "9\n",
      "(1, 10, 100, 1000, 10000)\n",
      "(1, 10, 100, 1, 10, 100, 1, 10, 100)\n",
      "True\n",
      "True\n"
     ]
    }
   ],
   "source": [
    "# operaciones con tuplas\n",
    "my_tuple = (1, 10, 100)\n",
    "\n",
    "t1 = my_tuple + (1000, 10000)\n",
    "t2 = my_tuple * 3 # aumenta la longitud\n",
    "\n",
    "print(len(t2))\n",
    "print(t1)\n",
    "print(t2)\n",
    "print(10 in my_tuple)\n",
    "print(-10 not in my_tuple)"
   ]
  },
  {
   "cell_type": "code",
   "execution_count": 9,
   "metadata": {},
   "outputs": [
    {
     "name": "stdout",
     "output_type": "stream",
     "text": [
      "(2,) (3, 123) (1,)\n"
     ]
    }
   ],
   "source": [
    "var = 123\n",
    "\n",
    "t1 = (1, )\n",
    "t2 = (2, )\n",
    "t3 = (3, var)\n",
    "\n",
    "t1, t2, t3 = t2, t3, t1\n",
    "\n",
    "print(t1, t2, t3)\n",
    "\n"
   ]
  }
 ],
 "metadata": {
  "kernelspec": {
   "display_name": "Python 3.6.13 ('DataScience')",
   "language": "python",
   "name": "python3"
  },
  "language_info": {
   "codemirror_mode": {
    "name": "ipython",
    "version": 3
   },
   "file_extension": ".py",
   "mimetype": "text/x-python",
   "name": "python",
   "nbconvert_exporter": "python",
   "pygments_lexer": "ipython3",
   "version": "3.6.13"
  },
  "orig_nbformat": 4,
  "vscode": {
   "interpreter": {
    "hash": "d1be5dc262f941eb986cc9e4fcafd04ed5a82531a024240bb5288ec085091668"
   }
  }
 },
 "nbformat": 4,
 "nbformat_minor": 2
}
