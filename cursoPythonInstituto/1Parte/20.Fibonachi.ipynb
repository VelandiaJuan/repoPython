{
 "cells": [
  {
   "cell_type": "markdown",
   "metadata": {},
   "source": [
    "Son una secuencia de números enteros los cuales siguen una regla sencilla:\n",
    "\n",
    "    El primer elemento de la secuencia es igual a uno (Fib1 = 1).\n",
    "    El segundo elemento también es igual a uno (Fib2 = 1).\n",
    "    Cada número después de ellos son la suman de los dos números anteriores (Fibi = Fibi-1 + Fibi-2).\n"
   ]
  },
  {
   "cell_type": "code",
   "execution_count": 7,
   "metadata": {},
   "outputs": [
    {
     "name": "stdout",
     "output_type": "stream",
     "text": [
      "1 -> 1\n",
      "2 -> 1\n",
      "3 -> 2\n",
      "4 -> 3\n",
      "5 -> 5\n",
      "6 -> 8\n",
      "7 -> 13\n",
      "8 -> 21\n",
      "9 -> 34\n",
      "10 -> 55\n",
      "11 -> 89\n",
      "12 -> 144\n",
      "13 -> 233\n",
      "14 -> 377\n",
      "15 -> 610\n",
      "16 -> 987\n",
      "17 -> 1597\n",
      "18 -> 2584\n",
      "19 -> 4181\n",
      "20 -> 6765\n",
      "21 -> 10946\n",
      "22 -> 17711\n",
      "23 -> 28657\n",
      "24 -> 46368\n"
     ]
    }
   ],
   "source": [
    "def fib(n):# Función para identificar la seria de fibonacchi\n",
    "    if n < 1:\n",
    "        return None\n",
    "    if n < 3:\n",
    "        return 1\n",
    "\n",
    "    elem_1 = elem_2 = 1\n",
    "    the_sum = 0\n",
    "    for i in range(3, n + 1):\n",
    "        the_sum = elem_1 + elem_2\n",
    "        # deje en el elemento 1 lo que esta en 2\n",
    "        # deje en el elemento 2 lo que esta suma\n",
    "        elem_1, elem_2 = elem_2, the_sum\n",
    "    return the_sum\n",
    "\n",
    "\n",
    "for n in range(1, 25):  # probando\n",
    "    print(n, \"->\", fib(n))"
   ]
  },
  {
   "cell_type": "code",
   "execution_count": 5,
   "metadata": {},
   "outputs": [
    {
     "name": "stdout",
     "output_type": "stream",
     "text": [
      "1 -> 1\n",
      "2 -> 1\n",
      "3 -> 2\n",
      "4 -> 3\n",
      "5 -> 5\n",
      "6 -> 8\n",
      "7 -> 13\n",
      "8 -> 21\n",
      "9 -> 34\n",
      "10 -> 55\n",
      "11 -> 89\n",
      "12 -> 144\n",
      "13 -> 233\n",
      "14 -> 377\n",
      "15 -> 610\n",
      "16 -> 987\n",
      "17 -> 1597\n",
      "18 -> 2584\n",
      "19 -> 4181\n",
      "20 -> 6765\n",
      "21 -> 10946\n",
      "22 -> 17711\n",
      "23 -> 28657\n",
      "24 -> 46368\n"
     ]
    }
   ],
   "source": [
    "# serie de fibonachi con recursibidad\n",
    "def fib(n):\n",
    "    if n < 1:\n",
    "        return None\n",
    "    if n < 3:\n",
    "        return 1\n",
    "    return fib(n - 1) + fib(n - 2)\n",
    "\n",
    "for n in range(1, 25):  # probando\n",
    "    print(n, \"->\", fib(n))"
   ]
  },
  {
   "cell_type": "code",
   "execution_count": 6,
   "metadata": {},
   "outputs": [
    {
     "name": "stdout",
     "output_type": "stream",
     "text": [
      "1 -> 1\n",
      "2 -> 2\n",
      "3 -> 6\n",
      "4 -> 24\n",
      "5 -> 120\n",
      "6 -> 720\n",
      "7 -> 5040\n",
      "8 -> 40320\n",
      "9 -> 362880\n",
      "10 -> 3628800\n",
      "11 -> 39916800\n",
      "12 -> 479001600\n",
      "13 -> 6227020800\n",
      "14 -> 87178291200\n",
      "15 -> 1307674368000\n",
      "16 -> 20922789888000\n",
      "17 -> 355687428096000\n",
      "18 -> 6402373705728000\n",
      "19 -> 121645100408832000\n",
      "20 -> 2432902008176640000\n",
      "21 -> 51090942171709440000\n",
      "22 -> 1124000727777607680000\n",
      "23 -> 25852016738884976640000\n",
      "24 -> 620448401733239439360000\n"
     ]
    }
   ],
   "source": [
    "def factorial_function(n):\n",
    "    if n < 0:\n",
    "        return None\n",
    "    if n < 2:\n",
    "        return 1\n",
    "    return n * factorial_function(n - 1)\n",
    "\n",
    "for n in range(1, 25):  # probando\n",
    "    print(n, \"->\", factorial_function(n))"
   ]
  },
  {
   "cell_type": "code",
   "execution_count": 8,
   "metadata": {},
   "outputs": [
    {
     "name": "stdout",
     "output_type": "stream",
     "text": [
      "56\n"
     ]
    }
   ],
   "source": [
    "def fun(a):\n",
    "    if a > 30:\n",
    "        return 3\n",
    "    else:\n",
    "        return a + fun(a + 3)\n",
    "\n",
    "\n",
    "print(fun(25))"
   ]
  }
 ],
 "metadata": {
  "kernelspec": {
   "display_name": "Python 3.6.13 ('DataScience')",
   "language": "python",
   "name": "python3"
  },
  "language_info": {
   "codemirror_mode": {
    "name": "ipython",
    "version": 3
   },
   "file_extension": ".py",
   "mimetype": "text/x-python",
   "name": "python",
   "nbconvert_exporter": "python",
   "pygments_lexer": "ipython3",
   "version": "3.6.13"
  },
  "orig_nbformat": 4,
  "vscode": {
   "interpreter": {
    "hash": "d1be5dc262f941eb986cc9e4fcafd04ed5a82531a024240bb5288ec085091668"
   }
  }
 },
 "nbformat": 4,
 "nbformat_minor": 2
}
