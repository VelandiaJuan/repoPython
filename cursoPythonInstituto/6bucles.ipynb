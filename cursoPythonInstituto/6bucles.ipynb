{
 "cells": [
  {
   "cell_type": "code",
   "execution_count": null,
   "metadata": {},
   "outputs": [],
   "source": [
    "while True:\n",
    "    print(\"Estoy atrapado dentro de un bucle.\")\n"
   ]
  },
  {
   "cell_type": "code",
   "execution_count": 2,
   "metadata": {},
   "outputs": [
    {
     "name": "stdout",
     "output_type": "stream",
     "text": [
      "El número más grande es: 31\n"
     ]
    }
   ],
   "source": [
    "# ejemplo 1\n",
    "# Almacena el actual número más grande aquí.\n",
    "largest_number = -999999999\n",
    "\n",
    "# Ingresa el primer valor.\n",
    "number = int(input(\"Introduce un número o escribe -1 para detener: \"))\n",
    "\n",
    "# Si el número no es igual a -1, continuaremos\n",
    "while number != -1:\n",
    "    # ¿Es el número más grande que el valor de largest_number?\n",
    "    if number > largest_number:\n",
    "        # Sí si, se actualiza largest_number.\n",
    "        largest_number = number\n",
    "    # Ingresa el siguiente número.\n",
    "    number = int(input(\"Introduce un número o escribe -1 para detener: \"))\n",
    "\n",
    "# Imprime el número más grande\n",
    "print(\"El número más grande es:\", largest_number)\n",
    "\n"
   ]
  },
  {
   "cell_type": "code",
   "execution_count": 3,
   "metadata": {},
   "outputs": [
    {
     "name": "stdout",
     "output_type": "stream",
     "text": [
      "Cuenta de números impares: 4\n",
      "Cuenta de números pares: 5\n"
     ]
    }
   ],
   "source": [
    "# ejemplo 2\n",
    "# Un programa que lee una secuencia de números\n",
    "# y cuenta cuántos números son pares y cuántos son impares.\n",
    "# El programa termina cuando se ingresa un cero.\n",
    "\n",
    "odd_numbers = 0\n",
    "even_numbers = 0\n",
    "\n",
    "# Lee el primer número.\n",
    "number = int(input(\"Introduce un número o escribe 0 para detener: \"))\n",
    "\n",
    "# 0 termina la ejecución.\n",
    "while number != 0:\n",
    "    # Verificar si el número es impar.\n",
    "    if number % 2 == 1:\n",
    "        # Incrementar el contador de números impares odd_numbers.\n",
    "        odd_numbers += 1\n",
    "    else:\n",
    "        # Incrementar el contador de números pares even_numbers.\n",
    "        even_numbers += 1\n",
    "    # Leer el siguiente número.\n",
    "    number = int(input(\"Introduce un número o escribe 0 para detener: \"))\n",
    "\n",
    "# Imprimir resultados.\n",
    "print(\"Cuenta de números impares:\", odd_numbers)\n",
    "print(\"Cuenta de números pares:\", even_numbers)"
   ]
  },
  {
   "cell_type": "code",
   "execution_count": 4,
   "metadata": {},
   "outputs": [
    {
     "name": "stdout",
     "output_type": "stream",
     "text": [
      "Dentro del bucle. 5\n",
      "Dentro del bucle. 4\n",
      "Dentro del bucle. 3\n",
      "Dentro del bucle. 2\n",
      "Dentro del bucle. 1\n",
      "Fuera del bucle. 0\n"
     ]
    }
   ],
   "source": [
    "# ejemplo 3 para salir de un bucle\n",
    "counter = 5\n",
    "while counter != 0:\n",
    "    print(\"Dentro del bucle.\", counter)\n",
    "    counter -= 1\n",
    "print(\"Fuera del bucle.\", counter)"
   ]
  },
  {
   "cell_type": "code",
   "execution_count": 5,
   "metadata": {},
   "outputs": [
    {
     "name": "stdout",
     "output_type": "stream",
     "text": [
      "Dentro del bucle. 5\n",
      "Dentro del bucle. 4\n",
      "Dentro del bucle. 3\n",
      "Dentro del bucle. 2\n",
      "Dentro del bucle. 1\n",
      "Fuera del bucle. 0\n"
     ]
    }
   ],
   "source": [
    "# ejemplo 3.1\n",
    "counter = 5\n",
    "while counter:\n",
    "    print(\"Dentro del bucle.\", counter)\n",
    "    counter -= 1\n",
    "print(\"Fuera del bucle.\", counter)"
   ]
  },
  {
   "cell_type": "code",
   "execution_count": 7,
   "metadata": {},
   "outputs": [
    {
     "name": "stdout",
     "output_type": "stream",
     "text": [
      "\n",
      "+==================================+\n",
      "| ¡Bienvenido a mi juego, muggle!  |\n",
      "| Introduce un número entero       |\n",
      "| y adivina qué número he          |\n",
      "| elegido para ti.                 |\n",
      "| Entonces,                        |\n",
      "| ¿Cuál es el número secreto?      |\n",
      "+==================================+\n",
      "\n",
      "\"¡Ja, ja! ¡Estás atrapado en mi bucle!\" \n",
      "\"¡Ja, ja! ¡Estás atrapado en mi bucle!\" \n",
      "¡Bien hecho, muggle! Eres libre ahora\n"
     ]
    }
   ],
   "source": [
    "# ejercicio propuesto 1\n",
    "secret_number = 777\n",
    "numero = int(input('Ingresa el numero a adivinar'))\n",
    "\n",
    "print(\n",
    "\"\"\"\n",
    "+==================================+\n",
    "| ¡Bienvenido a mi juego, muggle!  |\n",
    "| Introduce un número entero       |\n",
    "| y adivina qué número he          |\n",
    "| elegido para ti.                 |\n",
    "| Entonces,                        |\n",
    "| ¿Cuál es el número secreto?      |\n",
    "+==================================+\n",
    "\"\"\")\n",
    "while numero != secret_number:\n",
    "    if(numero != secret_number):\n",
    "        print('\"¡Ja, ja! ¡Estás atrapado en mi bucle!\" ')\n",
    "        numero = int(input('Ingresa el numero a adivinar'))\n",
    "\n",
    "print(\"¡Bien hecho, muggle! Eres libre ahora\")\n",
    "        "
   ]
  },
  {
   "cell_type": "code",
   "execution_count": null,
   "metadata": {},
   "outputs": [],
   "source": [
    "# ejecucion de un while como for\n",
    "i = 0\n",
    "while i < 100:\n",
    "    # do_something()\n",
    "    i += 1\n"
   ]
  }
 ],
 "metadata": {
  "interpreter": {
   "hash": "b29bf69b3514e4d81d8d7270d3e79b6172177f70cb2813e3b3390549273705d0"
  },
  "kernelspec": {
   "display_name": "Python 3.6.13 ('datascience')",
   "language": "python",
   "name": "python3"
  },
  "language_info": {
   "codemirror_mode": {
    "name": "ipython",
    "version": 3
   },
   "file_extension": ".py",
   "mimetype": "text/x-python",
   "name": "python",
   "nbconvert_exporter": "python",
   "pygments_lexer": "ipython3",
   "version": "3.6.13"
  },
  "orig_nbformat": 4
 },
 "nbformat": 4,
 "nbformat_minor": 2
}
