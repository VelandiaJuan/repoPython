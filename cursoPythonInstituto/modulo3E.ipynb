{
 "cells": [
  {
   "cell_type": "code",
   "execution_count": null,
   "metadata": {},
   "outputs": [],
   "source": []
  }
 ],
 "metadata": {
  "kernelspec": {
   "display_name": "Python 3.6.13 ('datascience')",
   "language": "python",
   "name": "python3"
  },
  "language_info": {
   "name": "python",
   "version": "3.6.13"
  },
  "orig_nbformat": 4,
  "vscode": {
   "interpreter": {
    "hash": "b29bf69b3514e4d81d8d7270d3e79b6172177f70cb2813e3b3390549273705d0"
   }
  }
 },
 "nbformat": 4,
 "nbformat_minor": 2
}
