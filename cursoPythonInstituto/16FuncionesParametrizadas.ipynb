{
 "cells": [
  {
   "cell_type": "code",
   "execution_count": 1,
   "metadata": {},
   "outputs": [
    {
     "name": "stdout",
     "output_type": "stream",
     "text": [
      "Hola, Juan Velandia\n"
     ]
    }
   ],
   "source": [
    "# Definición de función con parametros de entrada\n",
    "def hello(name):    # definiendo una función\n",
    "    print(\"Hola,\", name)    # cuerpo de la función\n",
    "\n",
    "\n",
    "name = input(\"Ingresa tu nombre: \")\n",
    "\n",
    "hello(name)    # invocación de la función"
   ]
  },
  {
   "cell_type": "code",
   "execution_count": 2,
   "metadata": {},
   "outputs": [
    {
     "name": "stdout",
     "output_type": "stream",
     "text": [
      "Ingresa un número: 1\n",
      "1234\n"
     ]
    }
   ],
   "source": [
    "# las variables definidas en la función solo se utlizan dentro de la función\n",
    "def message(number):\n",
    "    print(\"Ingresa un número:\", number)\n",
    "\n",
    "number = 1234\n",
    "message(1)\n",
    "print(number)"
   ]
  },
  {
   "cell_type": "code",
   "execution_count": 3,
   "metadata": {},
   "outputs": [
    {
     "name": "stdout",
     "output_type": "stream",
     "text": [
      "Ingresa Telefono numero 12 Nombre Juan\n",
      "Ingresa Prize numero 5 Nombre Velanida\n",
      "Ingresa Taxes numero 1 Nombre Misael\n"
     ]
    }
   ],
   "source": [
    "# función con dos argumentos\n",
    "def mensaje(what,number,nombre):\n",
    "    print('Ingresa',what,'numero',number,'Nombre',nombre)\n",
    "\n",
    "mensaje('Telefono',12,'Juan')\n",
    "mensaje('Prize',5,'Velanida')\n",
    "mensaje('Taxes',1,'Misael')"
   ]
  },
  {
   "cell_type": "code",
   "execution_count": null,
   "metadata": {},
   "outputs": [],
   "source": [
    "# funciones con palabras clave\n",
    "def introducion():"
   ]
  }
 ],
 "metadata": {
  "kernelspec": {
   "display_name": "Python 3.6.13 ('DataScience')",
   "language": "python",
   "name": "python3"
  },
  "language_info": {
   "codemirror_mode": {
    "name": "ipython",
    "version": 3
   },
   "file_extension": ".py",
   "mimetype": "text/x-python",
   "name": "python",
   "nbconvert_exporter": "python",
   "pygments_lexer": "ipython3",
   "version": "3.6.13"
  },
  "orig_nbformat": 4,
  "vscode": {
   "interpreter": {
    "hash": "d1be5dc262f941eb986cc9e4fcafd04ed5a82531a024240bb5288ec085091668"
   }
  }
 },
 "nbformat": 4,
 "nbformat_minor": 2
}
