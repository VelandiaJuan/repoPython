{
 "cells": [
  {
   "cell_type": "code",
   "execution_count": 1,
   "metadata": {},
   "outputs": [
    {
     "name": "stdout",
     "output_type": "stream",
     "text": [
      "[[[':(', 'x', 'x'], [':)', 'x', 'x'], [':(', 'x', 'x']], [[':)', 'x', 'x'], [':(', 'x', 'x'], [':)', 'x', 'x']], [[':(', 'x', 'x'], [':)', 'x', 'x'], [':)', 'x', 'x']]]\n",
      ":(\n",
      ":)\n"
     ]
    }
   ],
   "source": [
    "# Cubo - un arreglo tridimensional (3x3x3)\n",
    "\n",
    "cube = [[[':(', 'x', 'x'],\n",
    "         [':)', 'x', 'x'],\n",
    "         [':(', 'x', 'x']],\n",
    "\n",
    "        [[':)', 'x', 'x'],\n",
    "         [':(', 'x', 'x'],\n",
    "         [':)', 'x', 'x']],\n",
    "\n",
    "        [[':(', 'x', 'x'],\n",
    "         [':)', 'x', 'x'],\n",
    "         [':)', 'x', 'x']]]\n",
    "\n",
    "print(cube)\n",
    "print(cube[0][0][0])  # outputs: ':('\n",
    "print(cube[2][2][0])  # outputs: ':)'\n"
   ]
  }
 ],
 "metadata": {
  "kernelspec": {
   "display_name": "Python 3.6.13 ('datascience')",
   "language": "python",
   "name": "python3"
  },
  "language_info": {
   "codemirror_mode": {
    "name": "ipython",
    "version": 3
   },
   "file_extension": ".py",
   "mimetype": "text/x-python",
   "name": "python",
   "nbconvert_exporter": "python",
   "pygments_lexer": "ipython3",
   "version": "3.6.13"
  },
  "orig_nbformat": 4,
  "vscode": {
   "interpreter": {
    "hash": "b29bf69b3514e4d81d8d7270d3e79b6172177f70cb2813e3b3390549273705d0"
   }
  }
 },
 "nbformat": 4,
 "nbformat_minor": 2
}
