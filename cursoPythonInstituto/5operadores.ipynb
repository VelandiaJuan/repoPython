{
 "cells": [
  {
   "cell_type": "code",
   "execution_count": null,
   "metadata": {},
   "outputs": [],
   "source": [
    "var = 0   # asignando 0 a var\n",
    "print(var == 0)\n",
    "\n",
    "var = 1  # asignando 1 a var\n",
    "print(var == 0)"
   ]
  },
  {
   "cell_type": "code",
   "execution_count": null,
   "metadata": {},
   "outputs": [],
   "source": [
    "# operador desigualdad\n",
    "var = 0 # asignando 0 a var\n",
    "print(var != 0)\n",
    "\n",
    "var = 1 # asignando 1 a var\n",
    "print(var != 0)"
   ]
  },
  {
   "cell_type": "code",
   "execution_count": null,
   "metadata": {},
   "outputs": [],
   "source": [
    "# ejercicio 1\n",
    "# primera interpretacion del problema\n",
    "n = int(input('ingrese un numero'))\n",
    "print('el valor n ',n, 'es mayor que 100',n>100)\n",
    "print('el valor n ',n,'es menor que 100',n<100)\n",
    "\n",
    "# segunda interpretacion del problema sencilla\n",
    "n = int(input(\"Ingrese el numero:\")) \n",
    "print(n > 100) "
   ]
  },
  {
   "cell_type": "code",
   "execution_count": null,
   "metadata": {},
   "outputs": [],
   "source": [
    "#Se leen dos números\n",
    "number1 = int(input(\"Ingresa el primer número: \"))\n",
    "number2 = int(input(\"Ingresa el segundo número: \"))\n",
    "\n",
    "# Elige el número más grande\n",
    "if number1 > number2:\n",
    "    larger_number = number1\n",
    "else:\n",
    "    larger_number = number2\n",
    "\n",
    "# Imprime el resultado\n",
    "print(\"El número más grande es:\", larger_number)\n",
    "\n"
   ]
  },
  {
   "cell_type": "code",
   "execution_count": null,
   "metadata": {},
   "outputs": [],
   "source": [
    "#Se leen dos números\n",
    "number1 = int(input(\"Ingresa el primer número: \"))\n",
    "number2 = int(input(\"Ingresa el segundo número: \"))\n",
    "\n",
    "# Elige el número más grande\n",
    "if number1 > number2: larger_number = number1\n",
    "else: larger_number = number2\n",
    "\n",
    "# Imprime el resultado\n",
    "print(\"El número más grande es:\", larger_number)\n",
    "\n"
   ]
  },
  {
   "cell_type": "code",
   "execution_count": null,
   "metadata": {},
   "outputs": [],
   "source": [
    "# Se leen tres números\n",
    "number1 = int(input(\"Ingresa el primer número: \"))\n",
    "number2 = int(input(\"Ingresa el segundo número: \"))\n",
    "number3 = int(input(\"Ingresa el tercer número: \"))\n",
    "\n",
    "# Asumimos temporalmente que el primer número\n",
    "# es el más grande.\n",
    "# Lo verificaremos pronto.\n",
    "largest_number = number1\n",
    "\n",
    "# Comprobamos si el segundo número es más grande que el mayor número actual\n",
    "# y actualiza el número más grande si es necesario.\n",
    "if number2 > largest_number:\n",
    "    largest_number = number2\n",
    "\n",
    "# Comprobamos si el tercer número es más grande que el mayor número actual\n",
    "# y actualiza el número más grande si es necesario.\n",
    "if number3 > largest_number:\n",
    "    largest_number = number3\n",
    "\n",
    "# Imprime el resultado.\n",
    "print(\"El número más grande es:\", largest_number)\n"
   ]
  },
  {
   "cell_type": "code",
   "execution_count": 5,
   "metadata": {},
   "outputs": [
    {
     "name": "stdout",
     "output_type": "stream",
     "text": [
      "Si, ¡El ESPATIFILIO es la mejor planta de todos los tiempos!\n"
     ]
    }
   ],
   "source": [
    "# ejercicio 2\n",
    "planta = input('ingresa el nombre de la planta')\n",
    "if(planta == 'espatifilo'):\n",
    "    print('No, ¡quiero un gran ESPATIFILIO!')\n",
    "elif(planta ==  'ESPATIFILIO'):\n",
    "    print('Si, ¡El ESPATIFILIO es la mejor planta de todos los tiempos!')\n",
    "elif(planta !='espatifilo'):\n",
    "    print('!ESPATIFILIO!, ¡No '+planta+'!')"
   ]
  }
 ],
 "metadata": {
  "interpreter": {
   "hash": "b29bf69b3514e4d81d8d7270d3e79b6172177f70cb2813e3b3390549273705d0"
  },
  "kernelspec": {
   "display_name": "Python 3.6.13 ('datascience')",
   "language": "python",
   "name": "python3"
  },
  "language_info": {
   "codemirror_mode": {
    "name": "ipython",
    "version": 3
   },
   "file_extension": ".py",
   "mimetype": "text/x-python",
   "name": "python",
   "nbconvert_exporter": "python",
   "pygments_lexer": "ipython3",
   "version": "3.6.13"
  },
  "orig_nbformat": 4
 },
 "nbformat": 4,
 "nbformat_minor": 2
}
