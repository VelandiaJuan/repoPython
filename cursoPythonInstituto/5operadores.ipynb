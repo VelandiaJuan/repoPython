{
 "cells": [
  {
   "cell_type": "code",
   "execution_count": null,
   "metadata": {},
   "outputs": [],
   "source": [
    "var = 0   # asignando 0 a var\n",
    "print(var == 0)\n",
    "\n",
    "var = 1  # asignando 1 a var\n",
    "print(var == 0)"
   ]
  },
  {
   "cell_type": "code",
   "execution_count": null,
   "metadata": {},
   "outputs": [],
   "source": [
    "# operador desigualdad\n",
    "var = 0 # asignando 0 a var\n",
    "print(var != 0)\n",
    "\n",
    "var = 1 # asignando 1 a var\n",
    "print(var != 0)"
   ]
  },
  {
   "cell_type": "code",
   "execution_count": null,
   "metadata": {},
   "outputs": [],
   "source": [
    "# ejercicio 1\n",
    "# primera interpretacion del problema\n",
    "n = int(input('ingrese un numero'))\n",
    "print('el valor n ',n, 'es mayor que 100',n>100)\n",
    "print('el valor n ',n,'es menor que 100',n<100)\n",
    "\n",
    "# segunda interpretacion del problema sencilla\n",
    "n = int(input(\"Ingrese el numero:\")) \n",
    "print(n > 100) "
   ]
  },
  {
   "cell_type": "code",
   "execution_count": null,
   "metadata": {},
   "outputs": [],
   "source": [
    "#Se leen dos números\n",
    "number1 = int(input(\"Ingresa el primer número: \"))\n",
    "number2 = int(input(\"Ingresa el segundo número: \"))\n",
    "\n",
    "# Elige el número más grande\n",
    "if number1 > number2:\n",
    "    larger_number = number1\n",
    "else:\n",
    "    larger_number = number2\n",
    "\n",
    "# Imprime el resultado\n",
    "print(\"El número más grande es:\", larger_number)\n",
    "\n"
   ]
  },
  {
   "cell_type": "code",
   "execution_count": null,
   "metadata": {},
   "outputs": [],
   "source": [
    "#Se leen dos números\n",
    "number1 = int(input(\"Ingresa el primer número: \"))\n",
    "number2 = int(input(\"Ingresa el segundo número: \"))\n",
    "\n",
    "# Elige el número más grande\n",
    "if number1 > number2: larger_number = number1\n",
    "else: larger_number = number2\n",
    "\n",
    "# Imprime el resultado\n",
    "print(\"El número más grande es:\", larger_number)\n",
    "\n"
   ]
  },
  {
   "cell_type": "code",
   "execution_count": null,
   "metadata": {},
   "outputs": [],
   "source": [
    "# Se leen tres números\n",
    "number1 = int(input(\"Ingresa el primer número: \"))\n",
    "number2 = int(input(\"Ingresa el segundo número: \"))\n",
    "number3 = int(input(\"Ingresa el tercer número: \"))\n",
    "\n",
    "# Asumimos temporalmente que el primer número\n",
    "# es el más grande.\n",
    "# Lo verificaremos pronto.\n",
    "largest_number = number1\n",
    "\n",
    "# Comprobamos si el segundo número es más grande que el mayor número actual\n",
    "# y actualiza el número más grande si es necesario.\n",
    "if number2 > largest_number:\n",
    "    largest_number = number2\n",
    "\n",
    "# Comprobamos si el tercer número es más grande que el mayor número actual\n",
    "# y actualiza el número más grande si es necesario.\n",
    "if number3 > largest_number:\n",
    "    largest_number = number3\n",
    "\n",
    "# Imprime el resultado.\n",
    "print(\"El número más grande es:\", largest_number)\n"
   ]
  },
  {
   "cell_type": "code",
   "execution_count": 5,
   "metadata": {},
   "outputs": [
    {
     "name": "stdout",
     "output_type": "stream",
     "text": [
      "Si, ¡El ESPATIFILIO es la mejor planta de todos los tiempos!\n"
     ]
    }
   ],
   "source": [
    "# ejercicio 2\n",
    "planta = input('ingresa el nombre de la planta')\n",
    "if(planta == 'espatifilo'):\n",
    "    print('No, ¡quiero un gran ESPATIFILIO!')\n",
    "elif(planta ==  'ESPATIFILIO'):\n",
    "    print('Si, ¡El ESPATIFILIO es la mejor planta de todos los tiempos!')\n",
    "elif(planta !='espatifilo'):\n",
    "    print('!ESPATIFILIO!, ¡No '+planta+'!')"
   ]
  },
  {
   "cell_type": "code",
   "execution_count": 7,
   "metadata": {},
   "outputs": [
    {
     "name": "stdout",
     "output_type": "stream",
     "text": [
      "el impuesto a pagar es de  0\n"
     ]
    }
   ],
   "source": [
    "# ejercicio 3\n",
    "# taxes del valor\n",
    "income = float(input(\"Introduce el ingreso anual:\"))\n",
    "if income < 85528 and income>0:\n",
    "    impuesto = (income*0.18)-556.02\n",
    "elif income>85528:\n",
    "    impuesto=14839+((income-85528)*0.32)\n",
    "else:\n",
    "    impuesto=0\n",
    "\n",
    "# validacion de condiciones si el impuesto es menor que cero\n",
    "if impuesto<0:\n",
    "    impuesto=0\n",
    "\n",
    "# redondeo de la variable a cero decimales\n",
    "impuesto = round(impuesto,0)\n",
    "print('el impuesto a pagar es de ',impuesto)"
   ]
  },
  {
   "cell_type": "code",
   "execution_count": 28,
   "metadata": {},
   "outputs": [
    {
     "name": "stdout",
     "output_type": "stream",
     "text": [
      "leap year\n"
     ]
    }
   ],
   "source": [
    "# ejercicio 4 propuesto del year a evaluar\n",
    "year = int(input(\"Introduce un año:\"))\n",
    "\n",
    "if year >= 1582:#si esta en la condicion despues del year\n",
    "    if ((year%4) !=0):\n",
    "        print('comun year')\n",
    "    elif ((year%100) !=0):\n",
    "        print('leap year')\n",
    "    elif ((year%400) !=0):\n",
    "        print('comun year')\n",
    "    else:\n",
    "        print('leap year')#special condition 2000\n",
    "else:\n",
    "    print(\"it's no range\")\n",
    "\n",
    "\n"
   ]
  },
  {
   "cell_type": "code",
   "execution_count": 29,
   "metadata": {},
   "outputs": [
    {
     "name": "stdout",
     "output_type": "stream",
     "text": [
      "x > 5\n",
      "x > 8\n",
      "se ejecutará el else\n"
     ]
    }
   ],
   "source": [
    "x = 10\n",
    "\n",
    "if x > 5:  # True\n",
    "    print(\"x > 5\")\n",
    "\n",
    "if x > 8:  # True\n",
    "    print(\"x > 8\")\n",
    "\n",
    "if x > 10:  # False\n",
    "    print(\"x > 10\")\n",
    "\n",
    "else:\n",
    "    print(\"se ejecutará el else\")\n",
    "\n"
   ]
  },
  {
   "cell_type": "code",
   "execution_count": 30,
   "metadata": {},
   "outputs": [
    {
     "name": "stdout",
     "output_type": "stream",
     "text": [
      "False\n",
      "True\n"
     ]
    }
   ],
   "source": [
    "x = 5\n",
    "y = 10\n",
    "z = 8\n",
    "\n",
    "print(x > y)\n",
    "print(y > z)"
   ]
  },
  {
   "cell_type": "code",
   "execution_count": 31,
   "metadata": {},
   "outputs": [
    {
     "name": "stdout",
     "output_type": "stream",
     "text": [
      "False\n",
      "True\n"
     ]
    }
   ],
   "source": [
    "x, y, z = 5, 10, 8\n",
    "\n",
    "print(x > z)\n",
    "print((y - 5) == x)"
   ]
  },
  {
   "cell_type": "code",
   "execution_count": 34,
   "metadata": {},
   "outputs": [
    {
     "name": "stdout",
     "output_type": "stream",
     "text": [
      "cuatro\n",
      "cinco\n"
     ]
    }
   ],
   "source": [
    "x = \"1\"\n",
    "\n",
    "if x == 1:\n",
    "    print(\"uno\")\n",
    "elif x == \"1\":\n",
    "    if int(x) > 1:\n",
    "        print(\"dos\")\n",
    "    elif int(x) < 1:\n",
    "        print(\"tres\")\n",
    "    else:\n",
    "        print(\"cuatro\")\n",
    "if int(x) == 1:\n",
    "    print(\"cinco\")\n",
    "else:\n",
    "    print(\"seis\")"
   ]
  },
  {
   "cell_type": "code",
   "execution_count": 33,
   "metadata": {},
   "outputs": [
    {
     "name": "stdout",
     "output_type": "stream",
     "text": [
      "uno\n",
      "dos\n"
     ]
    }
   ],
   "source": [
    "x = 1\n",
    "y = 1.0\n",
    "z = \"1\"\n",
    "\n",
    "if x == y:\n",
    "    print(\"uno\")\n",
    "if y == int(z):\n",
    "    print(\"dos\")\n",
    "elif x == y:\n",
    "    print(\"tres\")\n",
    "else:\n",
    "    print(\"cuatro\")"
   ]
  }
 ],
 "metadata": {
  "interpreter": {
   "hash": "b29bf69b3514e4d81d8d7270d3e79b6172177f70cb2813e3b3390549273705d0"
  },
  "kernelspec": {
   "display_name": "Python 3.6.13 ('datascience')",
   "language": "python",
   "name": "python3"
  },
  "language_info": {
   "codemirror_mode": {
    "name": "ipython",
    "version": 3
   },
   "file_extension": ".py",
   "mimetype": "text/x-python",
   "name": "python",
   "nbconvert_exporter": "python",
   "pygments_lexer": "ipython3",
   "version": "3.6.13"
  },
  "orig_nbformat": 4
 },
 "nbformat": 4,
 "nbformat_minor": 2
}
