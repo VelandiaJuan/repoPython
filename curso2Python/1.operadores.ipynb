{
 "cells": [
  {
   "cell_type": "code",
   "execution_count": 1,
   "metadata": {},
   "outputs": [],
   "source": [
    "x = 1 + 3\n",
    "y = 15/6\n",
    "# division entera\n",
    "z = 15//12"
   ]
  },
  {
   "cell_type": "code",
   "execution_count": 2,
   "metadata": {},
   "outputs": [],
   "source": [
    "costo = 157 \n",
    "total = costo * 155"
   ]
  },
  {
   "cell_type": "code",
   "execution_count": 3,
   "metadata": {},
   "outputs": [],
   "source": [
    "caracter = 'hola a todos mundo' \n",
    "test = \"estoy aprendiendo a programa en 'Python' y estamos full focus en eso\""
   ]
  },
  {
   "cell_type": "code",
   "execution_count": 4,
   "metadata": {},
   "outputs": [
    {
     "name": "stdout",
     "output_type": "stream",
     "text": [
      "/no lo tiene en cuenta/\n",
      "una palabra es 'hola' \n"
     ]
    }
   ],
   "source": [
    "# delimitador omita el caracter\n",
    "delimitador = '/no lo tiene en cuenta/' \n",
    "delimitador2 = 'una palabra es \\'hola\\' ' \n",
    "print(delimitador)\n",
    "print(delimitador2)"
   ]
  },
  {
   "cell_type": "code",
   "execution_count": 10,
   "metadata": {},
   "outputs": [
    {
     "name": "stdout",
     "output_type": "stream",
     "text": [
      "hola a todos mundo union de la otra cadena\n",
      "hola a todos mundo union de la otra cadenahola a todos mundo union de la otra cadenahola a todos mundo union de la otra cadena\n",
      "h\n",
      "o\n",
      "hol\n"
     ]
    }
   ],
   "source": [
    "# manipulacion de cadenas\n",
    "# # unir las cadenas\n",
    "cadenaIngreso = caracter + ' union de la otra cadena'\n",
    "print(cadenaIngreso)\n",
    "# multiplicar las cadenas\n",
    "multiplicador = 3*cadenaIngreso\n",
    "print(multiplicador)\n",
    "# indice de la cadena \n",
    "indice = caracter[0]\n",
    "print(indice) \n",
    "# se puede tomar negativo para evaluar de final a inicio\n",
    "indice = caracter[-1]\n",
    "print(indice) \n",
    "# recorrimiento de la cadena \n",
    "recorrido = caracter[0:3]\n",
    "print(recorrido)"
   ]
  }
 ],
 "metadata": {
  "interpreter": {
   "hash": "4a1fd80be38e473944d29ea030714de9e5b664bddac97cc0b4758bc59a2b1f0c"
  },
  "kernelspec": {
   "display_name": "Python 3.6.13 ('datascience')",
   "language": "python",
   "name": "python3"
  },
  "language_info": {
   "codemirror_mode": {
    "name": "ipython",
    "version": 3
   },
   "file_extension": ".py",
   "mimetype": "text/x-python",
   "name": "python",
   "nbconvert_exporter": "python",
   "pygments_lexer": "ipython3",
   "version": "3.6.13"
  },
  "orig_nbformat": 4
 },
 "nbformat": 4,
 "nbformat_minor": 2
}
