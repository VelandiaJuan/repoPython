{
 "cells": [
  {
   "cell_type": "code",
   "execution_count": 8,
   "metadata": {},
   "outputs": [
    {
     "name": "stdout",
     "output_type": "stream",
     "text": [
      "la base es 7\n",
      "la altura es 15\n",
      "el area es  105\n"
     ]
    }
   ],
   "source": [
    "# inicio del uso del print\n",
    "nombre = 'pelotas'\n",
    "a = 15\n",
    "b = 7 \n",
    "area = a * b\n",
    "print('la base es',b)\n",
    "print('la altura es',a)\n",
    "print('el area es ',area)"
   ]
  },
  {
   "cell_type": "code",
   "execution_count": 12,
   "metadata": {},
   "outputs": [
    {
     "name": "stdout",
     "output_type": "stream",
     "text": [
      "el nombre del producto es pelota\n",
      "el costo es 56 el impuesto es  0.16 el total es  56.16\n"
     ]
    }
   ],
   "source": [
    "# segundo programa para aprender python\n",
    "nombreProducto = 'pelota'\n",
    "costo = 56\n",
    "impuesto =  0.16\n",
    "total = costo + impuesto\n",
    "print('el nombre del producto es',nombreProducto)\n",
    "print('el costo es',costo, 'el impuesto es ',impuesto , 'el total es ',total)"
   ]
  }
 ],
 "metadata": {
  "interpreter": {
   "hash": "4a1fd80be38e473944d29ea030714de9e5b664bddac97cc0b4758bc59a2b1f0c"
  },
  "kernelspec": {
   "display_name": "Python 3.6.13 ('datascience')",
   "language": "python",
   "name": "python3"
  },
  "language_info": {
   "codemirror_mode": {
    "name": "ipython",
    "version": 3
   },
   "file_extension": ".py",
   "mimetype": "text/x-python",
   "name": "python",
   "nbconvert_exporter": "python",
   "pygments_lexer": "ipython3",
   "version": "3.6.13"
  },
  "orig_nbformat": 4
 },
 "nbformat": 4,
 "nbformat_minor": 2
}
