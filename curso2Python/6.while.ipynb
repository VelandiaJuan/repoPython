{
 "cells": [
  {
   "cell_type": "code",
   "execution_count": 2,
   "metadata": {},
   "outputs": [
    {
     "name": "stdout",
     "output_type": "stream",
     "text": [
      "cuanto es 3 + 2\n",
      "cuanto es 3 + 2\n",
      "felicidades , respuesta correcta\n"
     ]
    }
   ],
   "source": [
    "# while ejecuta mientras la condicion sea verdadera\n",
    "    # y se ejecuta la accion\n",
    "respuesta = 0\n",
    "while respuesta !=  5:\n",
    "    print('cuanto es 3 + 2')\n",
    "    valor = input()\n",
    "    respuesta =int(valor)\n",
    "\n",
    "print('felicidades , respuesta correcta')"
   ]
  },
  {
   "cell_type": "code",
   "execution_count": 7,
   "metadata": {},
   "outputs": [
    {
     "name": "stdout",
     "output_type": "stream",
     "text": [
      "dame a\n",
      "dame b\n",
      "1 suma,2 resta,3 multiplicacion,4 div,5 salir\n",
      "el resultado es  27\n",
      "dame a\n",
      "dame b\n",
      "1 suma,2 resta,3 multiplicacion,4 div,5 salir\n",
      "el resultado es  0\n",
      "dame a\n",
      "dame b\n",
      "1 suma,2 resta,3 multiplicacion,4 div,5 salir\n",
      "el resultado es  0\n",
      "adios amor\n"
     ]
    }
   ],
   "source": [
    "# segundo codigo de ejecucion de while\n",
    "opcion = 0\n",
    "while opcion != 5:\n",
    "    print('dame a')\n",
    "    a = int(input())\n",
    "    print('dame b')\n",
    "    b = int(input())\n",
    "    r = 0\n",
    "    print('1 suma,2 resta,3 multiplicacion,4 div,5 salir')\n",
    "    opcion = int(input())\n",
    "    if opcion == 1 :\n",
    "        r = a+b\n",
    "    elif opcion == 2:\n",
    "        r = a-b\n",
    "    elif opcion == 3:\n",
    "        r = a*b\n",
    "    elif opcion == 4:\n",
    "        r = a/b\n",
    "    print('el resultado es ', str(r))\n",
    "\n",
    "print('adios amor')"
   ]
  }
 ],
 "metadata": {
  "interpreter": {
   "hash": "4a1fd80be38e473944d29ea030714de9e5b664bddac97cc0b4758bc59a2b1f0c"
  },
  "kernelspec": {
   "display_name": "Python 3.6.13 ('datascience')",
   "language": "python",
   "name": "python3"
  },
  "language_info": {
   "codemirror_mode": {
    "name": "ipython",
    "version": 3
   },
   "file_extension": ".py",
   "mimetype": "text/x-python",
   "name": "python",
   "nbconvert_exporter": "python",
   "pygments_lexer": "ipython3",
   "version": "3.6.13"
  },
  "orig_nbformat": 4
 },
 "nbformat": 4,
 "nbformat_minor": 2
}
