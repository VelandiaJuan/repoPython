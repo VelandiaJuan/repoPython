{
 "cells": [
  {
   "cell_type": "code",
   "execution_count": 1,
   "metadata": {},
   "outputs": [
    {
     "name": "stdout",
     "output_type": "stream",
     "text": [
      "dame tu nombre\n",
      "hola j\n",
      "yo tambien vivo enjlk\n"
     ]
    }
   ],
   "source": [
    "# parametros de ingreso para python\n",
    "print('dame tu nombre')\n",
    "nombre = input()\n",
    "print('hola '+ nombre)\n",
    "# segunda forma de hacerlo\n",
    "ciudad = input(\"donde vives?\")\n",
    "print('yo tambien vivo en'+ciudad)"
   ]
  },
  {
   "cell_type": "code",
   "execution_count": 6,
   "metadata": {},
   "outputs": [
    {
     "name": "stdout",
     "output_type": "stream",
     "text": [
      "Dame el valor de A\n"
     ]
    },
    {
     "ename": "ValueError",
     "evalue": "invalid literal for int() with base 10: ''",
     "output_type": "error",
     "traceback": [
      "\u001b[1;31m---------------------------------------------------------------------------\u001b[0m",
      "\u001b[1;31mValueError\u001b[0m                                Traceback (most recent call last)",
      "\u001b[1;32mc:\\Users\\Juan Velandia\\Desktop\\repoPython\\curso2Python\\5.imput.ipynb Cell 2'\u001b[0m in \u001b[0;36m<cell line: 3>\u001b[1;34m()\u001b[0m\n\u001b[0;32m      <a href='vscode-notebook-cell:/c%3A/Users/Juan%20Velandia/Desktop/repoPython/curso2Python/5.imput.ipynb#ch0000001?line=0'>1</a>\u001b[0m \u001b[39m# pedir valores numericos enteros\u001b[39;00m\n\u001b[0;32m      <a href='vscode-notebook-cell:/c%3A/Users/Juan%20Velandia/Desktop/repoPython/curso2Python/5.imput.ipynb#ch0000001?line=1'>2</a>\u001b[0m \u001b[39mprint\u001b[39m(\u001b[39m'\u001b[39m\u001b[39mDame el valor de A\u001b[39m\u001b[39m'\u001b[39m)\n\u001b[1;32m----> <a href='vscode-notebook-cell:/c%3A/Users/Juan%20Velandia/Desktop/repoPython/curso2Python/5.imput.ipynb#ch0000001?line=2'>3</a>\u001b[0m a \u001b[39m=\u001b[39m \u001b[39mint\u001b[39;49m(\u001b[39minput\u001b[39;49m())\n\u001b[0;32m      <a href='vscode-notebook-cell:/c%3A/Users/Juan%20Velandia/Desktop/repoPython/curso2Python/5.imput.ipynb#ch0000001?line=3'>4</a>\u001b[0m \u001b[39mprint\u001b[39m(\u001b[39m'\u001b[39m\u001b[39mDame el valor de B\u001b[39m\u001b[39m'\u001b[39m)\n\u001b[0;32m      <a href='vscode-notebook-cell:/c%3A/Users/Juan%20Velandia/Desktop/repoPython/curso2Python/5.imput.ipynb#ch0000001?line=4'>5</a>\u001b[0m b \u001b[39m=\u001b[39m \u001b[39mint\u001b[39m(\u001b[39minput\u001b[39m())\n",
      "\u001b[1;31mValueError\u001b[0m: invalid literal for int() with base 10: ''"
     ]
    }
   ],
   "source": [
    "\n",
    "# pedir valores numericos enteros\n",
    "print('Dame el valor de A')\n",
    "a = int(input())\n",
    "print('Dame el valor de B')\n",
    "b = int(input())\n",
    "\n",
    "suma = a + b\n",
    "print('la suma es :'+str(suma))\n"
   ]
  },
  {
   "cell_type": "code",
   "execution_count": 7,
   "metadata": {},
   "outputs": [
    {
     "name": "stdout",
     "output_type": "stream",
     "text": [
      "Dame el valor de A\n",
      "Dame el valor de B\n",
      "la suma es :60.6\n"
     ]
    }
   ],
   "source": [
    "# pedir valores numericos enteros\n",
    "print('Dame el valor de A')\n",
    "a = float(input())\n",
    "print('Dame el valor de B')\n",
    "b = float(input())\n",
    "\n",
    "suma = a + b\n",
    "print('la suma es : '+str(suma))\n"
   ]
  }
 ],
 "metadata": {
  "interpreter": {
   "hash": "4a1fd80be38e473944d29ea030714de9e5b664bddac97cc0b4758bc59a2b1f0c"
  },
  "kernelspec": {
   "display_name": "Python 3.6.13 ('datascience')",
   "language": "python",
   "name": "python3"
  },
  "language_info": {
   "codemirror_mode": {
    "name": "ipython",
    "version": 3
   },
   "file_extension": ".py",
   "mimetype": "text/x-python",
   "name": "python",
   "nbconvert_exporter": "python",
   "pygments_lexer": "ipython3",
   "version": "3.9.12"
  },
  "orig_nbformat": 4
 },
 "nbformat": 4,
 "nbformat_minor": 2
}
