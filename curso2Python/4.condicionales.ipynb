{
 "cells": [
  {
   "cell_type": "code",
   "execution_count": 8,
   "metadata": {},
   "outputs": [
    {
     "name": "stdout",
     "output_type": "stream",
     "text": [
      "valor 1 es menor\n",
      "valor 1 tiene el valor 10\n",
      "por fuera del if\n"
     ]
    }
   ],
   "source": [
    "# operadores condicionales en python\n",
    "# expresiones relacionales para comparar dos valores\n",
    "valor1 = 10\n",
    "valor2 = 15\n",
    "if valor1 < valor2:\n",
    "    print('valor 1 es menor')\n",
    "    print('valor 1 tiene el valor',valor1)\n",
    "    \n",
    "print('por fuera del if')"
   ]
  },
  {
   "cell_type": "code",
   "execution_count": 17,
   "metadata": {},
   "outputs": [
    {
     "name": "stdout",
     "output_type": "stream",
     "text": [
      "es adolecente\n",
      "fin del else\n"
     ]
    }
   ],
   "source": [
    "# condicionales elif para python\n",
    "edad = 14\n",
    "if edad>= 18:\n",
    "    print('es mayor de edad')\n",
    "elif edad >=13:\n",
    "    print('es adolecente')\n",
    "else:\n",
    "    print('es menor')\n",
    "print('fin del else')"
   ]
  },
  {
   "cell_type": "code",
   "execution_count": 23,
   "metadata": {},
   "outputs": [
    {
     "name": "stdout",
     "output_type": "stream",
     "text": [
      "C no es el mayor de todos\n",
      "C es mayor de almenos uno\n",
      "son iguales parce\n"
     ]
    }
   ],
   "source": [
    "# operadores logicos en Python\n",
    "a = 15\n",
    "b = 12\n",
    "c = 15\n",
    "if c> a and c>b:\n",
    "    print('C es el mayor de todos')\n",
    "else:\n",
    "    print('C no es el mayor de todos')\n",
    "\n",
    "\n",
    "if c> a or c>b:\n",
    "    print('C es mayor de almenos uno')\n",
    "else:\n",
    "    print('C no es mayor que nadie')\n",
    "\n",
    "\n",
    "if (not(c==a)):\n",
    "    print('no son iguales')\n",
    "else:\n",
    "    print('son iguales parce')"
   ]
  }
 ],
 "metadata": {
  "interpreter": {
   "hash": "4a1fd80be38e473944d29ea030714de9e5b664bddac97cc0b4758bc59a2b1f0c"
  },
  "kernelspec": {
   "display_name": "Python 3.6.13 ('datascience')",
   "language": "python",
   "name": "python3"
  },
  "language_info": {
   "codemirror_mode": {
    "name": "ipython",
    "version": 3
   },
   "file_extension": ".py",
   "mimetype": "text/x-python",
   "name": "python",
   "nbconvert_exporter": "python",
   "pygments_lexer": "ipython3",
   "version": "3.6.13"
  },
  "orig_nbformat": 4
 },
 "nbformat": 4,
 "nbformat_minor": 2
}
