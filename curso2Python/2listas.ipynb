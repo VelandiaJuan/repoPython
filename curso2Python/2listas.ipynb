{
 "cells": [
  {
   "cell_type": "code",
   "execution_count": 4,
   "metadata": {},
   "outputs": [],
   "source": [
    "# clase de listas sencillas para mejorar en python\n",
    "# tipos de datos compuestos como estructuras y agrupar de los diferentes elementos\n",
    "# cuando utilizar \n",
    "# las temperaturas de todas las temperatura de mes\n",
    "lista = [1,3,15,11]\n",
    "# se empieza en el indice cero\n",
    "\n",
    "multiplicacion = lista[0] * lista[2]\n",
    "# se puede tomar los indices negativos si se requiere\n",
    "# la cadena de caracteres es inmutable\n",
    "# la lista si se puede modificar en las posiciones"
   ]
  },
  {
   "cell_type": "code",
   "execution_count": 8,
   "metadata": {},
   "outputs": [
    {
     "name": "stdout",
     "output_type": "stream",
     "text": [
      "[[1, 3, 15, 11, 25, 25, 25], ['a', 'b', 'c', 'd', 'e']]\n"
     ]
    }
   ],
   "source": [
    "# adicionar elementos a la lista de forma facil \n",
    "adicion = lista + [1,2,3,4]\n",
    "# adicionar un elemento al final de una lista ya tomada \n",
    "lista.append(25)\n",
    "# tamano de una lista\n",
    "size = len(lista)\n",
    "# adicion de lista y anidadas\n",
    "letras = ['a','b','c','d','e']\n",
    "anidada = [lista,letras]\n",
    "print(anidada)"
   ]
  }
 ],
 "metadata": {
  "interpreter": {
   "hash": "4a1fd80be38e473944d29ea030714de9e5b664bddac97cc0b4758bc59a2b1f0c"
  },
  "kernelspec": {
   "display_name": "Python 3.6.13 ('datascience')",
   "language": "python",
   "name": "python3"
  },
  "language_info": {
   "codemirror_mode": {
    "name": "ipython",
    "version": 3
   },
   "file_extension": ".py",
   "mimetype": "text/x-python",
   "name": "python",
   "nbconvert_exporter": "python",
   "pygments_lexer": "ipython3",
   "version": "3.6.13"
  },
  "orig_nbformat": 4
 },
 "nbformat": 4,
 "nbformat_minor": 2
}
