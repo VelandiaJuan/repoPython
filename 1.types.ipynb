{
 "cells": [
  {
   "cell_type": "code",
   "execution_count": 3,
   "metadata": {},
   "outputs": [],
   "source": [
    "# tipos de datos tomados\n",
    "# datos de tipo int o numeros o enteros\n",
    "x = int(1.1)##truncamiento a entero\n",
    "# cambiar de string a un numero\n",
    "y = int('1')\n",
    "# se puede convertir de int a string con el siguiente comando\n",
    "u = str(1)\n",
    "# pasar de float a string\n",
    "f = str(4.5)\n"
   ]
  },
  {
   "cell_type": "code",
   "execution_count": 3,
   "metadata": {},
   "outputs": [
    {
     "name": "stdout",
     "output_type": "stream",
     "text": [
      "1\n",
      "True\n"
     ]
    }
   ],
   "source": [
    "# tipos de datos boleanos\n",
    "# para escribirlos es necesario ponerlos en mayuscula\n",
    "dato = True\n",
    "dato2 = False\n",
    "conversionData = int(True)\n",
    "print(conversionData)#devuleve un entero con uno o cero\n",
    "conversionBoleano = bool(1)\n",
    "print(conversionBoleano)#devuleve un True si recibe un 1 entero"
   ]
  }
 ],
 "metadata": {
  "interpreter": {
   "hash": "4a1fd80be38e473944d29ea030714de9e5b664bddac97cc0b4758bc59a2b1f0c"
  },
  "kernelspec": {
   "display_name": "Python 3.6.13 64-bit ('datascience': conda)",
   "language": "python",
   "name": "python3"
  },
  "language_info": {
   "codemirror_mode": {
    "name": "ipython",
    "version": 3
   },
   "file_extension": ".py",
   "mimetype": "text/x-python",
   "name": "python",
   "nbconvert_exporter": "python",
   "pygments_lexer": "ipython3",
   "version": "3.6.13"
  },
  "orig_nbformat": 4
 },
 "nbformat": 4,
 "nbformat_minor": 2
}
