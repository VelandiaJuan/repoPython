{
 "cells": [
  {
   "cell_type": "code",
   "execution_count": 5,
   "metadata": {},
   "outputs": [
    {
     "name": "stdout",
     "output_type": "stream",
     "text": [
      "Hola mundo\n",
      "H\n",
      "n\n",
      "d\n",
      "Hola mundo\n"
     ]
    }
   ],
   "source": [
    "myString = 'Hola mundo'\n",
    "print(myString)\n",
    "\n",
    "# para imprimir una sola letra\n",
    "print(myString[0])\n",
    "print(myString[7])\n",
    "print(myString[-2]) #inicia del final al principio"
   ]
  },
  {
   "cell_type": "code",
   "execution_count": 14,
   "metadata": {},
   "outputs": [
    {
     "name": "stdout",
     "output_type": "stream",
     "text": [
      "Hola mundo\n",
      "Hola\n",
      "la\n",
      "la mun\n",
      "l u\n",
      "Hl ud\n",
      "odnum aloH\n"
     ]
    }
   ],
   "source": [
    "# para tomar varios caracteres slicing\n",
    "# parametro de inicio y de fin \n",
    "print(myString[:])\n",
    "print(myString[:4])\n",
    "print(myString[2:4])\n",
    "print(myString[2:8:])#agreguelo hasta el final del salto de caracteres\n",
    "print(myString[2:8:2])#intercalado de cada dos \n",
    "print(myString[::2])#intercalado de cada dos \n",
    "print(myString[::-1])#invierte las letras"
   ]
  }
 ],
 "metadata": {
  "interpreter": {
   "hash": "9aa3c5c6bd8bd23c36c51121fc005bd365272f46ef36cd9fc53ebbe8857fc2c5"
  },
  "kernelspec": {
   "display_name": "Python 3.6.13 64-bit ('datascience': conda)",
   "language": "python",
   "name": "python3"
  },
  "language_info": {
   "codemirror_mode": {
    "name": "ipython",
    "version": 3
   },
   "file_extension": ".py",
   "mimetype": "text/x-python",
   "name": "python",
   "nbconvert_exporter": "python",
   "pygments_lexer": "ipython3",
   "version": "3.6.13"
  },
  "orig_nbformat": 4
 },
 "nbformat": 4,
 "nbformat_minor": 2
}
