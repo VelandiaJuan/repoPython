{
 "cells": [
  {
   "cell_type": "code",
   "execution_count": 13,
   "metadata": {},
   "outputs": [
    {
     "name": "stdout",
     "output_type": "stream",
     "text": [
      "mi nombre es luis y mi apellido es Velandia \n",
      "mi apellido es Velandia y mi nombre es luis \n",
      "Hoy es Sabado\n",
      "hoy es Sabado\n",
      "el resultado es 0.137\n"
     ]
    }
   ],
   "source": [
    "# formato de impresion con los strings\n",
    "# 1 metodo .format\n",
    "nombre = 'luis' \n",
    "apellido = 'Velandia' \n",
    "dia = 'Sabado' \n",
    "print('mi nombre es {} y mi apellido es {} '.format(nombre,apellido))\n",
    "print('mi apellido es {1} y mi nombre es {0} '.format(nombre,apellido))\n",
    "print('Hoy es {}'.format(dia))\n",
    "# utilizando letras \n",
    "print('hoy es {d}'.format(d= 'Sabado'))\n",
    "# impresion de variables de tipo float\n",
    "resultado = 123/898\n",
    "print('el resultado es {r:1.4}'.format(r= resultado))#espacios resevados el primer indice el otro el numero de decimales\n"
   ]
  },
  {
   "cell_type": "code",
   "execution_count": 15,
   "metadata": {},
   "outputs": [
    {
     "name": "stdout",
     "output_type": "stream",
     "text": [
      " today is Sunday and tomorrow is not Sunday\n"
     ]
    }
   ],
   "source": [
    "# 2 Metodo de f-string (formated strings literals)\n",
    "date = 'Sunday' \n",
    "print(f' today is {date} and tomorrow is not {date}')\n",
    "\n",
    "\n",
    "\n"
   ]
  }
 ],
 "metadata": {
  "interpreter": {
   "hash": "4a1fd80be38e473944d29ea030714de9e5b664bddac97cc0b4758bc59a2b1f0c"
  },
  "kernelspec": {
   "display_name": "Python 3.6.13 ('datascience')",
   "language": "python",
   "name": "python3"
  },
  "language_info": {
   "codemirror_mode": {
    "name": "ipython",
    "version": 3
   },
   "file_extension": ".py",
   "mimetype": "text/x-python",
   "name": "python",
   "nbconvert_exporter": "python",
   "pygments_lexer": "ipython3",
   "version": "3.6.13"
  },
  "orig_nbformat": 4
 },
 "nbformat": 4,
 "nbformat_minor": 2
}
