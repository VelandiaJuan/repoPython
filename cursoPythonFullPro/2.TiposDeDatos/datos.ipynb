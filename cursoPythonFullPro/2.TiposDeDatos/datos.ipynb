{
 "cells": [
  {
   "cell_type": "code",
   "execution_count": 9,
   "metadata": {},
   "outputs": [],
   "source": [
    "# tipos de datos de python para manejar los datos\n",
    "\n",
    "# tipos de datos entero equivalentes a los numeros naturales\n",
    "numerosNaturales = 4\n",
    "numerosNaturales2 = 5\n",
    "# punto flotante con parte decimal\n",
    "\n",
    "decimal = 14.2\n",
    "\n",
    "# strings \n",
    "caracter = \"Juanito esta aprendiendo Python\"\n",
    "\n",
    "# listas\n",
    "lista = [ 24 , 25, 21] #vectores tambien se llaman\n",
    "\n",
    "# diccionarios\n",
    "# un json se puede decir\n",
    "valor = {'Nombre': \"Juanito\"}\n",
    "\n",
    "# tuplas\n",
    "# son valores inmutables que no se pueden cambiar \n",
    "miPrimerTubla = (25,\"Hello\",18.4)\n",
    "\n",
    "# sets\n",
    "# son colecciones desordenadas y los objetos son únicos\n",
    "# estructura de datos muy bueno utilizar\n",
    "x = {\"x\",\"y\",\"z\"}\n",
    "\n",
    "\n",
    "# Boleanos\n",
    "boleanito = True\n",
    "\n",
    "\n"
   ]
  }
 ],
 "metadata": {
  "interpreter": {
   "hash": "4a1fd80be38e473944d29ea030714de9e5b664bddac97cc0b4758bc59a2b1f0c"
  },
  "kernelspec": {
   "display_name": "Python 3.6.13 64-bit ('datascience': conda)",
   "language": "python",
   "name": "python3"
  },
  "language_info": {
   "codemirror_mode": {
    "name": "ipython",
    "version": 3
   },
   "file_extension": ".py",
   "mimetype": "text/x-python",
   "name": "python",
   "nbconvert_exporter": "python",
   "pygments_lexer": "ipython3",
   "version": "3.6.13"
  },
  "orig_nbformat": 4
 },
 "nbformat": 4,
 "nbformat_minor": 2
}
