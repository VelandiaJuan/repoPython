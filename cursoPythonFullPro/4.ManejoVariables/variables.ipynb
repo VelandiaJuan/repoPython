{
 "cells": [
  {
   "cell_type": "markdown",
   "metadata": {},
   "source": [
    "Condireaciones a tener en cuenta\n",
    "1.Las variables no pueden iniciar con numeros\n",
    "2.No pueden tener espacios en blanco es bueno utilizar los guiones \"_\" para completar los mismos\n",
    "3.Ningun caracter especial\n",
    "4.Utilizar nombres de palabras reservadas"
   ]
  },
  {
   "cell_type": "code",
   "execution_count": 16,
   "metadata": {},
   "outputs": [
    {
     "name": "stdout",
     "output_type": "stream",
     "text": [
      "<class 'float'>\n"
     ]
    }
   ],
   "source": [
    "edad = 27\n",
    "color = \"Amarrillo\"\n",
    "PI = 3.1416\n",
    "# para saber el tipo de datos\n",
    "tipoVariable = type(PI)\n",
    "print(tipoVariable)"
   ]
  },
  {
   "cell_type": "code",
   "execution_count": 17,
   "metadata": {},
   "outputs": [
    {
     "name": "stdout",
     "output_type": "stream",
     "text": [
      "El salario es : 1455000.0\n",
      "El descuento es : 45000.0\n"
     ]
    }
   ],
   "source": [
    "# codigo sencillo\n",
    "salario = 1500000\n",
    "afp = 0.03\n",
    "descuento = salario * afp\n",
    "salario = salario -descuento\n",
    "print('El salario es : ' + str(salario))\n",
    "print('El descuento es : ' + str(descuento))\n"
   ]
  },
  {
   "cell_type": "code",
   "execution_count": 18,
   "metadata": {},
   "outputs": [
    {
     "name": "stdout",
     "output_type": "stream",
     "text": [
      "46\n"
     ]
    }
   ],
   "source": [
    "# tamaño de un string\n",
    "textoCaracter = \"Mi nombre es Juan Velandia estamos aprendiendo\"\n",
    "print(len(textoCaracter))#Numero de caracteres que se tienen en un string"
   ]
  }
 ],
 "metadata": {
  "interpreter": {
   "hash": "340213bd034ebed803bd67241839e1eb935344a022a104aff3da31be7b80fd0a"
  },
  "kernelspec": {
   "display_name": "Python 3.8.8 64-bit ('base': conda)",
   "language": "python",
   "name": "python3"
  },
  "language_info": {
   "codemirror_mode": {
    "name": "ipython",
    "version": 3
   },
   "file_extension": ".py",
   "mimetype": "text/x-python",
   "name": "python",
   "nbconvert_exporter": "python",
   "pygments_lexer": "ipython3",
   "version": "3.8.8"
  },
  "orig_nbformat": 4
 },
 "nbformat": 4,
 "nbformat_minor": 2
}
