{
 "cells": [
  {
   "cell_type": "code",
   "execution_count": 10,
   "metadata": {},
   "outputs": [
    {
     "name": "stdout",
     "output_type": "stream",
     "text": [
      "PuanitoCrack\n"
     ]
    }
   ],
   "source": [
    "# Clase numero #9\n",
    "# Propiedades y metodos de los strings \n",
    "# 1. Inmutabilidad\n",
    "nombre = 'JuanitoCrack'\n",
    "# nombre[0] = 'T'#no se puede asignar \n",
    "# print(nombre[0])\n",
    "ultimasLetras = nombre[1::]#selecciona al final \n",
    "nombreFinal = 'P' + ultimasLetras\n",
    "print(nombreFinal)"
   ]
  },
  {
   "cell_type": "code",
   "execution_count": 13,
   "metadata": {},
   "outputs": [
    {
     "name": "stdout",
     "output_type": "stream",
     "text": [
      "PPPPPPPPPP\n",
      "PC\n"
     ]
    }
   ],
   "source": [
    "elCaso = 'P'\n",
    "print(elCaso*10)#Multiplica por cada una \n",
    "# unir los caracteres\n",
    "numero1 ='P'\n",
    "numero2 ='C'\n",
    "print(numero1 + numero2)"
   ]
  },
  {
   "cell_type": "code",
   "execution_count": 21,
   "metadata": {},
   "outputs": [
    {
     "name": "stdout",
     "output_type": "stream",
     "text": [
      "hola mundo cruel\n",
      "HOLA MUNDO CRUEL\n",
      "['Hola', 'Mundo', 'Cruel']\n",
      "['Hola M', 'ndo Cr', 'el']\n"
     ]
    }
   ],
   "source": [
    "myString = 'Hola Mundo Cruel'\n",
    "print(myString.lower())#debe ir con el ()\n",
    "print(myString.upper())#Mayusculas para el sistema\n",
    "print(myString.split())#toma los espacios y lo separa en un vector\n",
    "print(myString.split('u'))#Se puede tomar con letras para separar y elimina la variable\n"
   ]
  }
 ],
 "metadata": {
  "interpreter": {
   "hash": "9aa3c5c6bd8bd23c36c51121fc005bd365272f46ef36cd9fc53ebbe8857fc2c5"
  },
  "kernelspec": {
   "display_name": "Python 3.6.13 ('datascience')",
   "language": "python",
   "name": "python3"
  },
  "language_info": {
   "codemirror_mode": {
    "name": "ipython",
    "version": 3
   },
   "file_extension": ".py",
   "mimetype": "text/x-python",
   "name": "python",
   "nbconvert_exporter": "python",
   "pygments_lexer": "ipython3",
   "version": "3.6.13"
  },
  "orig_nbformat": 4
 },
 "nbformat": 4,
 "nbformat_minor": 2
}
