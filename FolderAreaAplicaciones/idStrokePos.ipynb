{
 "cells": [
  {
   "cell_type": "code",
   "execution_count": null,
   "metadata": {},
   "outputs": [],
   "source": [
    "mitadnlineas = (nlineas//2)\n",
    "Min_Pos = min(Pos[0:mitadnlineas])\n",
    "Max_Pos = max(Pos[0:mitadnlineas])\n",
    "ref = (Max_Pos - Min_Pos)*0.5\n",
    "\n",
    "for i in range (0, mitadnlineas):\n",
    "    if Pos[i]==Min_Pos:\n",
    "        Min_ind = i\n",
    "\n",
    "Aux1=0\n",
    "\n",
    "for i in range (Min_ind+1,nlineas-1):\n",
    "    if Aux1==0:\n",
    "        if Pos[i]-Pos[i+1] < 0: \n",
    "            if Pos[i]-ref > 0:\n",
    "                Aux1 = 1\n",
    "                Paso_1 = i\n",
    "\n",
    "Aux2 = 0\n",
    "\n",
    "for i in range (Paso_1+1, nlineas-1):\n",
    "    if Aux1 == 1 and Aux2 == 0:\n",
    "        if Pos[i]-Pos[i+1] > 0:  \n",
    "            if Pos[i]-ref < 0:\n",
    "                Aux2 = 1\n",
    "                Paso_2 = i\n",
    "\n",
    "Rango = Paso_2 + (Paso_2 - Min_ind)\n",
    "Seg_min = min(Pos[Paso_2:Rango])\n",
    "\n",
    "for i in range (Paso_2, Rango):\n",
    "    if Pos[i] == Seg_min:\n",
    "        Seg_ind = i\n",
    "        \n",
    "Idx = int(Min_ind)\n",
    "Idxn = int(Seg_ind)"
   ]
  }
 ],
 "metadata": {
  "language_info": {
   "name": "python"
  },
  "orig_nbformat": 4
 },
 "nbformat": 4,
 "nbformat_minor": 2
}
