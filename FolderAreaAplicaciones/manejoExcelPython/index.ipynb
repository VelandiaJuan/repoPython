{
 "cells": [
  {
   "cell_type": "code",
   "execution_count": 3,
   "metadata": {},
   "outputs": [],
   "source": [
    "import xlsxwriter\n",
    " \n",
    "libro = xlsxwriter.Workbook('Presupuesto1.xlsx')\n",
    "hoja = libro.add_worksheet()"
   ]
  },
  {
   "cell_type": "code",
   "execution_count": 4,
   "metadata": {},
   "outputs": [],
   "source": [
    "# El presupuesto que pintaremos en la hoja de cálculo\n",
    "presupuesto = (\n",
    "    ['Equipos',     4000],\n",
    "    ['Cable',        100],\n",
    "    ['Armario',      200],\n",
    "    ['Switch',        99],\n",
    "    ['AP',            50],\n",
    "    ['Router',       150],\n",
    "    ['Mano de Obra', 350],\n",
    ")"
   ]
  },
  {
   "cell_type": "code",
   "execution_count": 5,
   "metadata": {},
   "outputs": [],
   "source": [
    "# Nos posicionamos en la primera columna de la primera fila\n",
    "row = 0\n",
    "col = 0\n",
    " \n",
    "# Iteramos los datos para ir pintando fila a fila\n",
    "for concepto, precio in (presupuesto):\n",
    "    hoja.write(row, col,    concepto)\n",
    "    hoja.write(row, col + 1, precio)\n",
    "    row += 1\n",
    " \n",
    "#Pintamos la fila de totales\n",
    "hoja.write(row, 0, 'Total:')\n",
    "hoja.write(row, 1, '=SUM(B1:B7)')\n",
    " \n",
    "#Cerramos el libro\n",
    "libro.close()"
   ]
  }
 ],
 "metadata": {
  "interpreter": {
   "hash": "9aa3c5c6bd8bd23c36c51121fc005bd365272f46ef36cd9fc53ebbe8857fc2c5"
  },
  "kernelspec": {
   "display_name": "Python 3.6.13 ('datascience')",
   "language": "python",
   "name": "python3"
  },
  "language_info": {
   "codemirror_mode": {
    "name": "ipython",
    "version": 3
   },
   "file_extension": ".py",
   "mimetype": "text/x-python",
   "name": "python",
   "nbconvert_exporter": "python",
   "pygments_lexer": "ipython3",
   "version": "3.6.13"
  },
  "orig_nbformat": 4
 },
 "nbformat": 4,
 "nbformat_minor": 2
}
