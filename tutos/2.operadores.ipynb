{
 "cells": [
  {
   "cell_type": "code",
   "execution_count": 5,
   "metadata": {},
   "outputs": [
    {
     "name": "stdout",
     "output_type": "stream",
     "text": [
      "5\n",
      "160\n",
      "0.08333333333333333\n",
      "142\n",
      "2.3666666666666667\n"
     ]
    }
   ],
   "source": [
    "# clase dos operadores matemáticos\n",
    "\n",
    "# expresion and variables \n",
    "\n",
    "x = 11//2#integer value this expresion\n",
    "print(x)\n",
    "# example of this expresion\n",
    "y = 43+60+16+41\n",
    "print(y)   \n",
    "u = x/60\n",
    "print(u)   \n",
    "totalMinutes = 43 + 42 + 57\n",
    "print(totalMinutes)   \n",
    "totalHours = totalMinutes / 60\n",
    "print(totalHours)"
   ]
  }
 ],
 "metadata": {
  "interpreter": {
   "hash": "4a1fd80be38e473944d29ea030714de9e5b664bddac97cc0b4758bc59a2b1f0c"
  },
  "kernelspec": {
   "display_name": "Python 3.6.13 64-bit ('datascience': conda)",
   "language": "python",
   "name": "python3"
  },
  "language_info": {
   "codemirror_mode": {
    "name": "ipython",
    "version": 3
   },
   "file_extension": ".py",
   "mimetype": "text/x-python",
   "name": "python",
   "nbconvert_exporter": "python",
   "pygments_lexer": "ipython3",
   "version": "3.6.13"
  },
  "orig_nbformat": 4
 },
 "nbformat": 4,
 "nbformat_minor": 2
}
